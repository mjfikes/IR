{
 "cells": [
  {
   "cell_type": "markdown",
   "id": "91b014f4",
   "metadata": {},
   "source": [
    "# CTEA1A and 1B Merge Utility"
   ]
  },
  {
   "cell_type": "markdown",
   "id": "8c6d0692",
   "metadata": {},
   "source": [
    "This will combine your CTEA-1A and CTEA-1B files. You need to have them named 'CTEA_1A.xlsx' and 'CTEA_1B.xlsx' to function."
   ]
  },
  {
   "cell_type": "code",
   "execution_count": 67,
   "id": "2c4b4587",
   "metadata": {},
   "outputs": [],
   "source": [
    "import pandas as pd"
   ]
  },
  {
   "cell_type": "code",
   "execution_count": 68,
   "id": "22a63ccf",
   "metadata": {},
   "outputs": [],
   "source": [
    "ctea_a = pd.read_excel('CTEA_1A.xlsx')\n",
    "ctea_b = pd.read_excel('CTEA_1B.xlsx')"
   ]
  },
  {
   "cell_type": "code",
   "execution_count": 69,
   "id": "4fc810ed",
   "metadata": {},
   "outputs": [],
   "source": [
    "id_field_a = ctea_a.iloc[:,[1]].columns[0]\n",
    "id_field_b = ctea_b.iloc[:,[1]].columns[0]\n"
   ]
  },
  {
   "cell_type": "code",
   "execution_count": 70,
   "id": "d0c01383",
   "metadata": {},
   "outputs": [],
   "source": [
    "ctea = ctea_a.merge(ctea_b.iloc[:,[1,2,3,4,5]],left_on=id_field_a,right_on=id_field_b,how='left')\n",
    "ctea.drop(ctea.iloc[:,[21]],axis=1,inplace=True)"
   ]
  },
  {
   "cell_type": "code",
   "execution_count": 72,
   "id": "8773b73b",
   "metadata": {
    "scrolled": true
   },
   "outputs": [],
   "source": [
    "ctea.to_excel('CTEA.xlsx',index=None)"
   ]
  }
 ],
 "metadata": {
  "kernelspec": {
   "display_name": "Python 3 (ipykernel)",
   "language": "python",
   "name": "python3"
  },
  "language_info": {
   "codemirror_mode": {
    "name": "ipython",
    "version": 3
   },
   "file_extension": ".py",
   "mimetype": "text/x-python",
   "name": "python",
   "nbconvert_exporter": "python",
   "pygments_lexer": "ipython3",
   "version": "3.9.7"
  }
 },
 "nbformat": 4,
 "nbformat_minor": 5
}
