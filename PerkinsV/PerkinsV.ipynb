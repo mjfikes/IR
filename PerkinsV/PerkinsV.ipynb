{
 "cells": [
  {
   "cell_type": "markdown",
   "id": "35f73e99",
   "metadata": {},
   "source": [
    "# Perkins V - Calculating Performance Indicators by CIP"
   ]
  },
  {
   "cell_type": "code",
   "execution_count": 1,
   "id": "bf3bb5cd",
   "metadata": {},
   "outputs": [],
   "source": [
    "# Author: Matthew Fikes\n",
    "# Modified: 3/11/22\n",
    "import pandas as pd\n"
   ]
  },
  {
   "cell_type": "markdown",
   "id": "a46941ed",
   "metadata": {},
   "source": [
    "### This code will calculate the Perkins 2P1 and 3P1 performance indicators.\n",
    "\n",
    "#### If your file is not named CTEA.xlsx the code will prompt you to enter the filename. This assumes values in CTEA file are numeric and not descriptions (e.g. non-completion status codes are 4 and 6). This was designed only for the CTEA-1 but can be modified."
   ]
  },
  {
   "cell_type": "code",
   "execution_count": 2,
   "id": "3454b24e",
   "metadata": {
    "scrolled": false
   },
   "outputs": [
    {
     "name": "stdout",
     "output_type": "stream",
     "text": [
      "File UTICA_AB.xlsx loaded successfully\n"
     ]
    }
   ],
   "source": [
    "file = 'UTICA_AB.xlsx'\n",
    "\n",
    "try:\n",
    "    data = pd.read_excel(file)\n",
    "    print('File {0} loaded successfully'.format(file))\n",
    "except:\n",
    "    file = input('CTEA.xlsx not found. Please enter the full filename: ')\n",
    "    try:\n",
    "        data = pd.read_excel(file)\n",
    "        print('File {0} loaded successfully'.format(file))\n",
    "    except:\n",
    "        print('No file found')\n",
    "        exit\n",
    "    "
   ]
  },
  {
   "cell_type": "markdown",
   "id": "ae7e70be",
   "metadata": {},
   "source": [
    "## Static Variables\n",
    "These can be modified to suit your individual file. Targets for 1P1, 2P1, and 3P1 ar also included so they can be easily changed."
   ]
  },
  {
   "cell_type": "code",
   "execution_count": 3,
   "id": "40315d8f",
   "metadata": {},
   "outputs": [],
   "source": [
    "target_1 = .4975\n",
    "target_2 = .2075\n",
    "target_3 = .1675"
   ]
  },
  {
   "cell_type": "code",
   "execution_count": 4,
   "id": "5515a6e8",
   "metadata": {},
   "outputs": [],
   "source": [
    "# fields to use for calculations from merged CTEA 1A/B - can be renamed if your fields are different\n",
    "cip_field = 'CTEA 1A / CIP Code / DYN||8774_DYN'\n",
    "status_field = 'CTEA 1A / YRENDSTAT_ID / DYN||8765_DYN'\n",
    "credit_field = 'CTEA 1A / Credits Earned / DYN||8763_DYN'\n",
    "emp_field = 'CTEA 1B / EMPSTAT_ID / DYN||8785_DYN'\n",
    "educ_field = 'CTEA 1B / EDUCSTAT_ID / DYN||8784_DYN'\n",
    "id_field = 'CTEA 1A / Student ID / DYN||8761_DYN'\n",
    "gender_field = 'CTEA 1A / Gender / DYN||8770_DYN'"
   ]
  },
  {
   "cell_type": "code",
   "execution_count": 5,
   "id": "833f57ef",
   "metadata": {},
   "outputs": [],
   "source": [
    "# special population fields\n",
    "disab_field = 'CTEA 1A / Disabled / DYN||8766_DYN'\n",
    "displ_field = 'CTEA 1A / DISPLACED_HM / DYN||8776_DYN'\n",
    "econdis_field = 'CTEA 1A / Economic Disadvantage / DYN||8777_DYN'\n",
    "homels_field = 'CTEA 1A / Homeless / DYN||8769_DYN'\n",
    "lim_eng_field = 'CTEA 1A / Limited English / DYN||8780_DYN'\n",
    "migr_field = 'CTEA 1A / Migrant / DYN||8772_DYN'\n",
    "sparnt_field = 'CTEA 1A / Single Parent / DYN||8775_DYN'\n",
    "youth_ao_field = 'CTEA 1A / Youth Aged Out / DYN||8779_DYN'\n",
    "youth_af_field = 'CTEA 1A / Youth Armed Forces / DYN||8762_DYN'\n",
    "spop_fields = [disab_field,displ_field,econdis_field,homels_field,lim_eng_field,migr_field,sparnt_field,youth_ao_field,youth_af_field]"
   ]
  },
  {
   "cell_type": "markdown",
   "id": "f379368e",
   "metadata": {},
   "source": [
    "### Get Non-traditional Crosswalk"
   ]
  },
  {
   "cell_type": "code",
   "execution_count": 6,
   "id": "9fc12f46",
   "metadata": {
    "scrolled": true
   },
   "outputs": [
    {
     "name": "stdout",
     "output_type": "stream",
     "text": [
      "Downloading Non-traditional crosswalk from  https://s3.amazonaws.com/PCRN/docs/REVISED_FINAL-2020-Nontraditional-Crosswalk-6-9-2021.xlsx\n",
      "Loaded successfully\n"
     ]
    }
   ],
   "source": [
    "xwalk_url = 'https://s3.amazonaws.com/PCRN/docs/REVISED_FINAL-2020-Nontraditional-Crosswalk-6-9-2021.xlsx'\n",
    "try:\n",
    "    print('Downloading Non-traditional crosswalk from ',xwalk_url)\n",
    "    nontrad_xwalk = pd.read_excel(xwalk_url)\n",
    "    print('Loaded successfully')\n",
    "except:\n",
    "    print('Unable to connect to ',xwalk_url)"
   ]
  },
  {
   "cell_type": "markdown",
   "id": "29df5fc6",
   "metadata": {},
   "source": [
    "### Join CTEA to crosswalk and separate completers"
   ]
  },
  {
   "cell_type": "code",
   "execution_count": 7,
   "id": "9b8d8fb9",
   "metadata": {},
   "outputs": [],
   "source": [
    "# merge crosswalk with loaded CTEA file, joined by CIP\n",
    "new_data = nontrad_xwalk[['CIP 6 2020','Female','Male']].merge(data,left_on='CIP 6 2020',right_on=cip_field,how='right')"
   ]
  },
  {
   "cell_type": "code",
   "execution_count": 8,
   "id": "19e1fd76",
   "metadata": {},
   "outputs": [],
   "source": [
    "# splits completers based on status codes 4 and 6 and total credits >=12\n",
    "completer_set = new_data[(new_data[status_field].isin([4,6])) | (new_data[credit_field]>=12)] #make numerator data"
   ]
  },
  {
   "cell_type": "code",
   "execution_count": 27,
   "id": "ebce20bf",
   "metadata": {},
   "outputs": [],
   "source": [
    "# uncomment to make dataframe of noncompleters\n",
    "#non_completers = pd.merge(new_data,completer_set,how='outer',on=id_field,indicator=True)\n",
    "#noncomp_df = non_completers.loc[non_completers._merge == 'left_only']"
   ]
  },
  {
   "cell_type": "markdown",
   "id": "beed7aea",
   "metadata": {},
   "source": [
    "# 1P1 Performance Indicator"
   ]
  },
  {
   "cell_type": "code",
   "execution_count": 28,
   "id": "f5d1e94a",
   "metadata": {},
   "outputs": [],
   "source": [
    "num_1p1 = completer_set[(completer_set[status_field].isin([4,6])) & \n",
    "                        ((completer_set[emp_field].isin([1,2,3,7,8,9]))|\n",
    "                          (completer_set[educ_field]==1))]\n",
    "den_1p1 = completer_set[(completer_set[status_field].isin([4,6]))]"
   ]
  },
  {
   "cell_type": "code",
   "execution_count": 116,
   "id": "46dd1fd0",
   "metadata": {},
   "outputs": [],
   "source": [
    "# Calculate performance for each special population by CIP, return values below target\n",
    "rows_1p1 = []\n",
    "for i in spop_fields:\n",
    "\n",
    "    lim_num = pd.DataFrame(num_1p1[(num_1p1[i]==1)])\n",
    "    lim_den = pd.DataFrame(den_1p1[(den_1p1[i]==1)])\n",
    "\n",
    "    num = pd.DataFrame(lim_num).filter([cip_field,i]).groupby(cip_field).count()\n",
    "    dem = pd.DataFrame(lim_den).filter([cip_field,i]).groupby(cip_field).count()\n",
    "    pct = num.divide(dem)\n",
    "    underperf = pct[(pct.values<=target_1)]\n",
    "    \n",
    "    rows_1p1.append(underperf.reset_index())\n",
    "    \n",
    "spop_1p1 = pd.concat(rows_1p1).dropna(axis=1,how='all').groupby('CTEA 1A / CIP Code / DYN||8774_DYN').max().reset_index()"
   ]
  },
  {
   "cell_type": "code",
   "execution_count": 137,
   "id": "d7ff9762",
   "metadata": {},
   "outputs": [],
   "source": [
    "num_grp_1 = num_1p1.groupby(cip_field)[id_field].count()\n",
    "den_grp_1 = den_1p1.groupby(cip_field)[id_field].count()\n",
    "percents_1p1 = num_grp_1.divide(den_grp_1,fill_value=0)"
   ]
  },
  {
   "cell_type": "markdown",
   "id": "e941fa32",
   "metadata": {},
   "source": [
    "## MOST RECENT PERFORMANCE DATA BY PROGRAM"
   ]
  },
  {
   "cell_type": "code",
   "execution_count": 250,
   "id": "5f036bc3",
   "metadata": {},
   "outputs": [
    {
     "name": "stdout",
     "output_type": "stream",
     "text": [
      "11.0201---33.33%\n",
      "11.0401---80.00%\n",
      "11.0701---66.67%\n",
      "11.1003---75.00%\n",
      "15.0201---88.89%\n",
      "15.0303---66.67%\n",
      "15.0407---0.00%\n",
      "15.0801---100.00%\n",
      "15.0805---33.33%\n",
      "15.1302---50.00%\n",
      "31.0101---62.50%\n",
      "43.0103---36.67%\n",
      "43.0107---31.25%\n",
      "43.0114---50.00%\n",
      "43.0204---70.00%\n",
      "44.0000---70.59%\n",
      "45.0702---100.00%\n",
      "47.0101---55.56%\n",
      "47.0201---0.00%\n",
      "48.0508---36.96%\n",
      "48.0510---50.00%\n",
      "50.0102---23.08%\n",
      "50.0406---50.00%\n",
      "50.0409---60.00%\n",
      "50.0410---21.05%\n",
      "51.0000---33.33%\n",
      "51.0707---55.56%\n",
      "51.0907---62.50%\n",
      "51.0908---16.67%\n",
      "51.1501---72.22%\n",
      "51.3801---43.75%\n",
      "52.0201---60.55%\n",
      "52.0205---69.23%\n",
      "52.0302---45.45%\n",
      "52.0401---40.00%\n",
      "52.0801---80.00%\n"
     ]
    }
   ],
   "source": [
    "pf1p1a = zip(percents_1p1.index,percents_1p1.values)\n",
    "for i in pf1p1a:\n",
    "    print('{0:.4f}---{1:.2f}%'.format(i[0],i[1]*100))"
   ]
  },
  {
   "cell_type": "markdown",
   "id": "7b3087a4",
   "metadata": {},
   "source": [
    "## PROGRAMS NOT MEETING TARGET"
   ]
  },
  {
   "cell_type": "code",
   "execution_count": 33,
   "id": "9fe8af6b",
   "metadata": {
    "scrolled": true
   },
   "outputs": [],
   "source": [
    "p_unmet_1p1 = pd.DataFrame(percents_1p1[(percents_1p1.values<=target_1)]).reset_index().set_index('CTEA 1A / CIP Code / DYN||8774_DYN')\n",
    "p_unmet_1p1_pf = percents_1p1[(percents_1p1.values<=target_1)]"
   ]
  },
  {
   "cell_type": "code",
   "execution_count": 253,
   "id": "1da4f6b5",
   "metadata": {},
   "outputs": [
    {
     "name": "stdout",
     "output_type": "stream",
     "text": [
      "11.0201---33.33%\n",
      "15.0407---0.00%\n",
      "15.0805---33.33%\n",
      "43.0103---36.67%\n",
      "43.0107---31.25%\n",
      "47.0201---0.00%\n",
      "48.0508---36.96%\n",
      "50.0102---23.08%\n",
      "50.0410---21.05%\n",
      "51.0000---33.33%\n",
      "51.0908---16.67%\n",
      "51.3801---43.75%\n",
      "52.0302---45.45%\n",
      "52.0401---40.00%\n"
     ]
    }
   ],
   "source": [
    "pf1p1b = zip(p_unmet_1p1_pf.index,p_unmet_1p1_pf.values)\n",
    "for i in pf1p1b:\n",
    "    print('{0:.4f}---{1:.2f}%'.format(i[0],i[1]*100))"
   ]
  },
  {
   "cell_type": "markdown",
   "id": "9f1500f4",
   "metadata": {},
   "source": [
    "## SPECIAL POPULATIONS NOT MEETING TARGET WITHIN PROGRAMS"
   ]
  },
  {
   "cell_type": "code",
   "execution_count": 198,
   "id": "7c0b0671",
   "metadata": {
    "scrolled": true
   },
   "outputs": [],
   "source": [
    "# Special Pops falling below 1P1 target, by CIP\n",
    "unmet_spop_1p1 = spop_1p1.set_index('CTEA 1A / CIP Code / DYN||8774_DYN')\n"
   ]
  },
  {
   "cell_type": "code",
   "execution_count": 199,
   "id": "49bd3331",
   "metadata": {
    "scrolled": false
   },
   "outputs": [
    {
     "name": "stdout",
     "output_type": "stream",
     "text": [
      "Disabled\n",
      "50.0102---40.00%\n",
      "50.0410---33.33%\n",
      "52.0201---33.33%\n",
      "DISPLACED_HM\n",
      "51.3801---33.33%\n",
      "Economic Disadvantage\n",
      "15.0805---25.00%\n",
      "43.0103---37.50%\n",
      "43.0107---35.71%\n",
      "48.0508---33.33%\n",
      "50.0102---20.00%\n",
      "50.0410---20.00%\n",
      "51.3801---48.65%\n",
      "52.0401---28.57%\n",
      "Homeless\n",
      "Limited English\n",
      "52.0302---25.00%\n",
      "Migrant\n",
      "Single Parent\n",
      "51.3801---25.00%\n",
      "52.0201---42.86%\n",
      "Youth Aged Out\n",
      "Youth Armed Forces\n"
     ]
    }
   ],
   "source": [
    "for items in rows_1p1:\n",
    "    try:\n",
    "        print(items.columns[1].split(' / ')[1])\n",
    "        for v in items.values:\n",
    "            cip = v[0]\n",
    "            meas = v[1]\n",
    "            print('{0:.4f}---{1:.2f}%'.format(cip,meas*100))\n",
    "\n",
    "    except:\n",
    "        print('NA')\n",
    "    "
   ]
  },
  {
   "cell_type": "markdown",
   "id": "b5617456",
   "metadata": {},
   "source": [
    "# 2P1 Performance Indicator"
   ]
  },
  {
   "cell_type": "code",
   "execution_count": 36,
   "id": "79ce3581",
   "metadata": {},
   "outputs": [],
   "source": [
    "num_2p1 = completer_set[(completer_set[status_field].isin([4,6]))]\n",
    "den_2p1 = completer_set[(completer_set[status_field].isin([4,5,6]))]\n",
    "num_grp_2 = num_2p1.groupby(cip_field)[id_field].count()\n",
    "den_grp_2 = den_2p1.groupby(cip_field)[id_field].count()"
   ]
  },
  {
   "cell_type": "code",
   "execution_count": 38,
   "id": "86076acf",
   "metadata": {},
   "outputs": [],
   "source": [
    "# Calculate performance for each special population by CIP, return values below target\n",
    "rows_2p1 = []\n",
    "for i in spop_fields:\n",
    "\n",
    "    lim_num = pd.DataFrame(num_2p1[(num_2p1[i]==1)])\n",
    "    lim_den = pd.DataFrame(den_2p1[(den_2p1[i]==1)])\n",
    "\n",
    "    num = pd.DataFrame(lim_num).filter([cip_field,i]).groupby(cip_field).count()\n",
    "    dem = pd.DataFrame(lim_den).filter([cip_field,i]).groupby(cip_field).count()\n",
    "    pct = num.divide(dem)\n",
    "    underperf = pct[(pct.values<=target_2)]\n",
    "    \n",
    "    rows_2p1.append(underperf.reset_index())\n",
    "    \n",
    "spop_2p1 = pd.concat(rows_2p1).dropna(axis=1,how='all').groupby('CTEA 1A / CIP Code / DYN||8774_DYN').max().reset_index()"
   ]
  },
  {
   "cell_type": "code",
   "execution_count": 204,
   "id": "8a4379e3",
   "metadata": {},
   "outputs": [],
   "source": [
    "percents_2p1 = num_grp_2.divide(den_grp_2,fill_value=0)\n"
   ]
  },
  {
   "cell_type": "markdown",
   "id": "f0c47c81",
   "metadata": {},
   "source": [
    "## MOST RECENT PERFORMANCE DATA BY PROGRAM"
   ]
  },
  {
   "cell_type": "code",
   "execution_count": 224,
   "id": "049f827d",
   "metadata": {},
   "outputs": [
    {
     "name": "stdout",
     "output_type": "stream",
     "text": [
      "11.0201---66.67%\n",
      "11.0401---45.45%\n",
      "11.0701---54.55%\n",
      "11.1003---72.73%\n",
      "15.0201---90.00%\n",
      "15.0303---46.15%\n",
      "15.0407---66.67%\n",
      "15.0616---0.00%\n",
      "15.0801---80.00%\n",
      "15.0805---46.15%\n",
      "15.1302---100.00%\n",
      "31.0101---88.89%\n",
      "43.0103---56.60%\n",
      "43.0107---80.00%\n",
      "43.0114---100.00%\n",
      "43.0204---41.67%\n",
      "44.0000---66.67%\n",
      "45.0702---100.00%\n",
      "47.0101---78.26%\n",
      "47.0201---70.00%\n",
      "48.0508---90.20%\n",
      "48.0510---90.91%\n",
      "50.0102---68.42%\n",
      "50.0406---76.92%\n",
      "50.0409---53.57%\n",
      "50.0410---61.29%\n",
      "51.0000---10.34%\n",
      "51.0707---50.00%\n",
      "51.0907---100.00%\n",
      "51.0908---80.00%\n",
      "51.1501---75.00%\n",
      "51.3801---87.27%\n",
      "52.0201---73.15%\n",
      "52.0205---86.67%\n",
      "52.0302---62.86%\n",
      "52.0401---76.92%\n",
      "52.0703---0.00%\n",
      "52.0801---90.91%\n"
     ]
    }
   ],
   "source": [
    "pf2p1a = zip(percents_2p1.index,percents_2p1.values)\n",
    "for i in pf2p1a:\n",
    "    print('{0:.4f}---{1:.2f}%'.format(i[0],i[1]*100))"
   ]
  },
  {
   "cell_type": "markdown",
   "id": "fa58512c",
   "metadata": {},
   "source": [
    "## PROGRAMS NOT MEETING TARGET"
   ]
  },
  {
   "cell_type": "code",
   "execution_count": 247,
   "id": "d7ea74a4",
   "metadata": {
    "scrolled": true
   },
   "outputs": [],
   "source": [
    "p_unmet_2p1 = pd.DataFrame(percents_2p1[(percents_2p1.values<=target_2)]).reset_index().set_index('CTEA 1A / CIP Code / DYN||8774_DYN')\n",
    "p_unmet_2p1_pf = percents_2p1[(percents_2p1.values<=target_2)]"
   ]
  },
  {
   "cell_type": "code",
   "execution_count": 249,
   "id": "d8414259",
   "metadata": {},
   "outputs": [
    {
     "name": "stdout",
     "output_type": "stream",
     "text": [
      "15.0616---0.00%\n",
      "51.0000---10.34%\n",
      "52.0703---0.00%\n"
     ]
    }
   ],
   "source": [
    "pf2p1b = zip(p_unmet_2p1_pf.index,p_unmet_2p1_pf.values)\n",
    "for i in pf2p1b:\n",
    "    print('{0:.4f}---{1:.2f}%'.format(i[0],i[1]*100))"
   ]
  },
  {
   "cell_type": "markdown",
   "id": "1beb5377",
   "metadata": {},
   "source": [
    "## SPECIAL POPULATIONS NOT MEETING TARGET WITHIN PROGRAMS"
   ]
  },
  {
   "cell_type": "code",
   "execution_count": 200,
   "id": "d100cbaf",
   "metadata": {
    "scrolled": false
   },
   "outputs": [],
   "source": [
    "# Special Pops falling below 1P1 target, by CIP\n",
    "unmet_spop_2p1 = spop_2p1.set_index('CTEA 1A / CIP Code / DYN||8774_DYN')"
   ]
  },
  {
   "cell_type": "code",
   "execution_count": 201,
   "id": "a82a0463",
   "metadata": {
    "scrolled": false
   },
   "outputs": [
    {
     "name": "stdout",
     "output_type": "stream",
     "text": [
      "Disabled\n",
      "51.0000---20.00%\n",
      "DISPLACED_HM\n",
      "Economic Disadvantage\n",
      "51.0000---8.00%\n",
      "Homeless\n",
      "Limited English\n",
      "Migrant\n",
      "Single Parent\n",
      "43.0103---20.00%\n",
      "Youth Aged Out\n",
      "Youth Armed Forces\n"
     ]
    }
   ],
   "source": [
    "for items in rows_2p1:\n",
    "    try:\n",
    "        print(items.columns[1].split(' / ')[1])\n",
    "        for v in items.values:\n",
    "            cip = v[0]\n",
    "            meas = v[1]\n",
    "            print('{0:.4f}---{1:.2f}%'.format(cip,meas*100))\n",
    "\n",
    "    except:\n",
    "        print('NA')\n",
    "    "
   ]
  },
  {
   "cell_type": "markdown",
   "id": "adc7d27a",
   "metadata": {},
   "source": [
    "# 3P1 Performance Indicator"
   ]
  },
  {
   "cell_type": "code",
   "execution_count": 45,
   "id": "a8a381b0",
   "metadata": {},
   "outputs": [],
   "source": [
    "num_3p1 = completer_set[((completer_set['Female']=='Y') & (completer_set[gender_field]==2))|((completer_set['Male']=='Y') & (completer_set[gender_field]==1))]\n",
    "num_grp_3 = num_3p1.groupby(cip_field)[id_field].count()\n",
    "den_3p1 = completer_set[(completer_set['Female']=='Y') | (completer_set['Male']=='Y')]\n",
    "den_grp_3 = den_3p1.groupby(cip_field)[id_field].count()\n",
    "percents_3p1 = num_grp_3.divide(den_grp_3,fill_value=0)"
   ]
  },
  {
   "cell_type": "code",
   "execution_count": 46,
   "id": "03159dcb",
   "metadata": {},
   "outputs": [],
   "source": [
    "# Calculate performance for each special population by CIP, return values below target\n",
    "rows_3p1 = []\n",
    "for i in spop_fields:\n",
    "\n",
    "    lim_num = pd.DataFrame(num_3p1[(num_3p1[i]==1)])\n",
    "    lim_den = pd.DataFrame(den_3p1[(den_3p1[i]==1)])\n",
    "\n",
    "    num = pd.DataFrame(lim_num).filter([cip_field,i]).groupby(cip_field).count()\n",
    "    dem = pd.DataFrame(lim_den).filter([cip_field,i]).groupby(cip_field).count()\n",
    "    pct = num.divide(dem)\n",
    "    underperf = pct[(pct.values<=target_3)]\n",
    "    \n",
    "    rows_3p1.append(underperf.reset_index())\n",
    "    \n",
    "spop_3p1 = pd.concat(rows_3p1).dropna(axis=1,how='all').groupby('CTEA 1A / CIP Code / DYN||8774_DYN').max().reset_index()"
   ]
  },
  {
   "cell_type": "markdown",
   "id": "f6bf6808",
   "metadata": {},
   "source": [
    "## MOST RECENT PERFORMANCE DATA BY PROGRAM"
   ]
  },
  {
   "cell_type": "code",
   "execution_count": 254,
   "id": "c8e673ac",
   "metadata": {},
   "outputs": [
    {
     "name": "stdout",
     "output_type": "stream",
     "text": [
      "11.0201---13.16%\n",
      "11.0401---28.57%\n",
      "11.0701---43.48%\n",
      "11.1003---22.64%\n",
      "13.1314---0.00%\n",
      "15.0201---3.33%\n",
      "15.0303---14.81%\n",
      "15.0407---0.00%\n",
      "15.0616---0.00%\n",
      "15.0801---0.00%\n",
      "15.0805---5.71%\n",
      "15.1302---10.00%\n",
      "43.0103---42.98%\n",
      "43.0107---28.57%\n",
      "43.0114---50.00%\n",
      "45.0702---0.00%\n",
      "47.0101---6.67%\n",
      "47.0201---2.38%\n",
      "48.0508---21.59%\n",
      "48.0510---18.52%\n",
      "51.0707---2.22%\n",
      "51.1501---36.73%\n",
      "51.3801---16.38%\n",
      "52.0201---49.36%\n",
      "52.0205---10.87%\n",
      "52.0302---34.38%\n"
     ]
    }
   ],
   "source": [
    "pf3p1a = zip(percents_3p1.index,percents_3p1.values)\n",
    "for i in pf3p1a:\n",
    "    print('{0:.4f}---{1:.2f}%'.format(i[0],i[1]*100))"
   ]
  },
  {
   "cell_type": "markdown",
   "id": "44bf4d17",
   "metadata": {},
   "source": [
    "## PROGRAMS NOT MEETING TARGET"
   ]
  },
  {
   "cell_type": "code",
   "execution_count": 255,
   "id": "243ac065",
   "metadata": {
    "scrolled": false
   },
   "outputs": [],
   "source": [
    "p_unmet_3p1 = pd.DataFrame(percents_3p1[(percents_3p1.values<=target_3)]).reset_index().set_index('CTEA 1A / CIP Code / DYN||8774_DYN')\n",
    "p_unmet_3p1_pf = percents_3p1[(percents_3p1.values<=target_3)]"
   ]
  },
  {
   "cell_type": "code",
   "execution_count": 257,
   "id": "a6741a97",
   "metadata": {},
   "outputs": [
    {
     "name": "stdout",
     "output_type": "stream",
     "text": [
      "11.0201---13.16%\n",
      "13.1314---0.00%\n",
      "15.0201---3.33%\n",
      "15.0303---14.81%\n",
      "15.0407---0.00%\n",
      "15.0616---0.00%\n",
      "15.0801---0.00%\n",
      "15.0805---5.71%\n",
      "15.1302---10.00%\n",
      "45.0702---0.00%\n",
      "47.0101---6.67%\n",
      "47.0201---2.38%\n",
      "51.0707---2.22%\n",
      "51.3801---16.38%\n",
      "52.0205---10.87%\n"
     ]
    }
   ],
   "source": [
    "pf3p1b = zip(p_unmet_3p1_pf.index,p_unmet_3p1_pf.values)\n",
    "for i in pf3p1b:\n",
    "    print('{0:.4f}---{1:.2f}%'.format(i[0],i[1]*100))"
   ]
  },
  {
   "cell_type": "markdown",
   "id": "66cd69bc",
   "metadata": {},
   "source": [
    "## SPECIAL POPULATIONS NOT MEETING TARGET WITHIN PROGRAMS"
   ]
  },
  {
   "cell_type": "code",
   "execution_count": 202,
   "id": "83b785d8",
   "metadata": {
    "scrolled": true
   },
   "outputs": [],
   "source": [
    "# Special Pops falling below 1P1 target, by CIP\n",
    "unmet_spop_3p1 = spop_3p1.set_index('CTEA 1A / CIP Code / DYN||8774_DYN')\n"
   ]
  },
  {
   "cell_type": "code",
   "execution_count": 203,
   "id": "21264723",
   "metadata": {
    "scrolled": false
   },
   "outputs": [
    {
     "name": "stdout",
     "output_type": "stream",
     "text": [
      "Disabled\n",
      "48.0508---10.00%\n",
      "DISPLACED_HM\n",
      "Economic Disadvantage\n",
      "11.0201---14.29%\n",
      "15.0201---4.00%\n",
      "15.0303---12.50%\n",
      "47.0201---3.12%\n",
      "51.3801---15.91%\n",
      "52.0205---15.00%\n",
      "Homeless\n",
      "Limited English\n",
      "Migrant\n",
      "Single Parent\n",
      "51.3801---10.53%\n",
      "52.0302---11.11%\n",
      "Youth Aged Out\n",
      "Youth Armed Forces\n"
     ]
    }
   ],
   "source": [
    "for items in rows_3p1:\n",
    "    try:\n",
    "        print(items.columns[1].split(' / ')[1])\n",
    "        for v in items.values:\n",
    "            cip = v[0]\n",
    "            meas = v[1]\n",
    "            print('{0:.4f}---{1:.2f}%'.format(cip,meas*100))\n",
    "\n",
    "    except:\n",
    "        print('NA')\n",
    "    "
   ]
  },
  {
   "cell_type": "markdown",
   "id": "28e65688",
   "metadata": {},
   "source": [
    "## RESULTS"
   ]
  },
  {
   "cell_type": "code",
   "execution_count": 50,
   "id": "4c9f0816",
   "metadata": {
    "scrolled": true
   },
   "outputs": [],
   "source": [
    "# load measures into dataframe\n",
    "df1a = pd.DataFrame(percents_1p1).reset_index()\n",
    "df1a['Target 1'] = target_1\n",
    "df1a.rename(columns={'CTEA 1A / Student ID / DYN||8761_DYN':'Measure 1P1'},inplace=True)\n",
    "df1b = df1a.merge(p_unmet_1p1,on='CTEA 1A / CIP Code / DYN||8774_DYN',how='left')\n",
    "df1b.rename(columns={'CTEA 1A / Student ID / DYN||8761_DYN':'Unmet 1P1'},inplace=True)\n",
    "df1c =spop_1p1\n",
    "df1c.rename(columns={'CTEA 1A / Disabled / DYN||8766_DYN':'Unmet 1P1 Disabled',\n",
    "                     'CTEA 1A / DISPLACED_HM / DYN||8776_DYN': 'Unmet 1P1 Displaced',\n",
    "                     'CTEA 1A / Economic Disadvantage / DYN||8777_DYN': 'Unmet 1P1 Econ Dis',\n",
    "                     'CTEA 1A / Homeless / DYN||8769_DYN': 'Unmet 1P1 Homeless',\n",
    "                     'CTEA 1A / Limited English / DYN||8780_DYN': 'Unmet 1P1 Lim Eng',\n",
    "                     'CTEA 1A / Migrant / DYN||8772_DYN': 'Unmet 1P1 Migrant',\n",
    "                     'CTEA 1A / Single Parent / DYN||8775_DYN': 'Unmet 1P1 Sing Par',\n",
    "                     'CTEA 1A / Youth Aged Out / DYN||8779_DYN': 'Unmet 1P1 Aged Out',\n",
    "                     'CTEA 1A / Youth Armed Forces / DYN||8762_DYN': 'Unmet 1P1 Armed Forces'\n",
    "                     \n",
    "                    },inplace=True)\n",
    "df1 = df1b.merge(df1c,on='CTEA 1A / CIP Code / DYN||8774_DYN',how='left')\n",
    "\n",
    "\n",
    "\n",
    "df2a = pd.DataFrame(percents_2p1).reset_index()\n",
    "df2a['Target 2'] = target_2\n",
    "df2a.rename(columns={'CTEA 1A / Student ID / DYN||8761_DYN':'Measure 2P1'},inplace=True)\n",
    "df2b = df2a.merge(p_unmet_2p1,on='CTEA 1A / CIP Code / DYN||8774_DYN',how='left')\n",
    "df2b.rename(columns={'CTEA 1A / Student ID / DYN||8761_DYN':'Unmet 2P1'},inplace=True)\n",
    "df2c =spop_2p1\n",
    "df2c.rename(columns={'CTEA 1A / Disabled / DYN||8766_DYN':'Unmet 2P1 Disabled',\n",
    "                     'CTEA 1A / DISPLACED_HM / DYN||8776_DYN': 'Unmet 2P1 Displaced',\n",
    "                     'CTEA 1A / Economic Disadvantage / DYN||8777_DYN': 'Unmet 2P1 Econ Dis',\n",
    "                     'CTEA 1A / Homeless / DYN||8769_DYN': 'Unmet 2P1 Homeless',\n",
    "                     'CTEA 1A / Limited English / DYN||8780_DYN': 'Unmet 2P1 Lim Eng',\n",
    "                     'CTEA 1A / Migrant / DYN||8772_DYN': 'Unmet 2P1 Migrant',\n",
    "                     'CTEA 1A / Single Parent / DYN||8775_DYN': 'Unmet 2P1 Sing Par',\n",
    "                     'CTEA 1A / Youth Aged Out / DYN||8779_DYN': 'Unmet 2P1 Aged Out',\n",
    "                     'CTEA 1A / Youth Armed Forces / DYN||8762_DYN': 'Unmet 2P1 Armed Forces'\n",
    "                     \n",
    "                    },inplace=True)\n",
    "df2 = df2b.merge(df2c,on='CTEA 1A / CIP Code / DYN||8774_DYN',how='left')\n",
    "\n",
    "\n",
    "df3a = pd.DataFrame(percents_3p1).reset_index()\n",
    "df3a['Target 3'] = target_3\n",
    "df3a.rename(columns={'CTEA 1A / Student ID / DYN||8761_DYN':'Measure 3P1'},inplace=True)\n",
    "df3b = df3a.merge(p_unmet_3p1,on='CTEA 1A / CIP Code / DYN||8774_DYN',how='left')\n",
    "df3b.rename(columns={'CTEA 1A / Student ID / DYN||8761_DYN':'Unmet 3P1'},inplace=True)\n",
    "df3c =spop_3p1\n",
    "df3c.rename(columns={'CTEA 1A / Disabled / DYN||8766_DYN':'Unmet 3P1 Disabled',\n",
    "                     'CTEA 1A / DISPLACED_HM / DYN||8776_DYN': 'Unmet 3P1 Displaced',\n",
    "                     'CTEA 1A / Economic Disadvantage / DYN||8777_DYN': 'Unmet 3P1 Econ Dis',\n",
    "                     'CTEA 1A / Homeless / DYN||8769_DYN': 'Unmet 3P1 Homeless',\n",
    "                     'CTEA 1A / Limited English / DYN||8780_DYN': 'Unmet 3P1 Lim Eng',\n",
    "                     'CTEA 1A / Migrant / DYN||8772_DYN': 'Unmet 3P1 Migrant',\n",
    "                     'CTEA 1A / Single Parent / DYN||8775_DYN': 'Unmet 3P1 Sing Par',\n",
    "                     'CTEA 1A / Youth Aged Out / DYN||8779_DYN': 'Unmet 3P1 Aged Out',\n",
    "                     'CTEA 1A / Youth Armed Forces / DYN||8762_DYN': 'Unmet 3P1 Armed Forces'\n",
    "                     \n",
    "                    },inplace=True)\n",
    "df3 = df3b.merge(df3c,on='CTEA 1A / CIP Code / DYN||8774_DYN',how='left')\n",
    "\n",
    "m1 = df1.merge(df2,on='CTEA 1A / CIP Code / DYN||8774_DYN',how='left')\n",
    "measures = m1.merge(df3,on='CTEA 1A / CIP Code / DYN||8774_DYN',how='left')\n",
    "measures.rename(columns={'CTEA 1A / CIP Code / DYN||8774_DYN':'CIP Code'},inplace=True)\n",
    "measures['CIP Code'] = measures['CIP Code'].map('{:.4f}'.format)\n"
   ]
  },
  {
   "cell_type": "code",
   "execution_count": 52,
   "id": "860d32f3",
   "metadata": {
    "scrolled": false
   },
   "outputs": [
    {
     "name": "stdout",
     "output_type": "stream",
     "text": [
      "Overall Performance for 1P1 is 52.44%\n",
      "Overall Performance for 2P1 is 69.35%\n",
      "Overall Performance for for 3P1 is 27.19%\n"
     ]
    }
   ],
   "source": [
    "print('Overall Performance for 1P1 is {0:.2f}%'.format(len(num_1p1)/len(den_1p1)*100))\n",
    "print('Overall Performance for 2P1 is {0:.2f}%'.format(len(num_2p1)/len(den_2p1)*100))\n",
    "print('Overall Performance for for 3P1 is {0:.2f}%'.format(len(num_3p1)/len(den_3p1)*100))"
   ]
  },
  {
   "cell_type": "code",
   "execution_count": 54,
   "id": "efaebcce",
   "metadata": {},
   "outputs": [
    {
     "name": "stdout",
     "output_type": "stream",
     "text": [
      "   CIP Code  Measure 1P1  Target 1  Unmet 1P1  Unmet 1P1 Disabled  \\\n",
      "0   11.0201     0.333333    0.4975   0.333333                 NaN   \n",
      "1   11.0401     0.800000    0.4975        NaN                 NaN   \n",
      "2   11.0701     0.666667    0.4975        NaN                 NaN   \n",
      "3   11.1003     0.750000    0.4975        NaN                 NaN   \n",
      "4   15.0201     0.888889    0.4975        NaN                 NaN   \n",
      "5   15.0303     0.666667    0.4975        NaN                 NaN   \n",
      "6   15.0407     0.000000    0.4975   0.000000                 NaN   \n",
      "7   15.0801     1.000000    0.4975        NaN                 NaN   \n",
      "8   15.0805     0.333333    0.4975   0.333333                 NaN   \n",
      "9   15.1302     0.500000    0.4975        NaN                 NaN   \n",
      "10  31.0101     0.625000    0.4975        NaN                 NaN   \n",
      "11  43.0103     0.366667    0.4975   0.366667                 NaN   \n",
      "12  43.0107     0.312500    0.4975   0.312500                 NaN   \n",
      "13  43.0114     0.500000    0.4975        NaN                 NaN   \n",
      "14  43.0204     0.700000    0.4975        NaN                 NaN   \n",
      "15  44.0000     0.705882    0.4975        NaN                 NaN   \n",
      "16  45.0702     1.000000    0.4975        NaN                 NaN   \n",
      "17  47.0101     0.555556    0.4975        NaN                 NaN   \n",
      "18  47.0201     0.000000    0.4975   0.000000                 NaN   \n",
      "19  48.0508     0.369565    0.4975   0.369565                 NaN   \n",
      "20  48.0510     0.500000    0.4975        NaN                 NaN   \n",
      "21  50.0102     0.230769    0.4975   0.230769            0.400000   \n",
      "22  50.0406     0.500000    0.4975        NaN                 NaN   \n",
      "23  50.0409     0.600000    0.4975        NaN                 NaN   \n",
      "24  50.0410     0.210526    0.4975   0.210526            0.333333   \n",
      "25  51.0000     0.333333    0.4975   0.333333                 NaN   \n",
      "26  51.0707     0.555556    0.4975        NaN                 NaN   \n",
      "27  51.0907     0.625000    0.4975        NaN                 NaN   \n",
      "28  51.0908     0.166667    0.4975   0.166667                 NaN   \n",
      "29  51.1501     0.722222    0.4975        NaN                 NaN   \n",
      "30  51.3801     0.437500    0.4975   0.437500                 NaN   \n",
      "31  52.0201     0.605505    0.4975        NaN            0.333333   \n",
      "32  52.0205     0.692308    0.4975        NaN                 NaN   \n",
      "33  52.0302     0.454545    0.4975   0.454545                 NaN   \n",
      "34  52.0401     0.400000    0.4975   0.400000                 NaN   \n",
      "35  52.0801     0.800000    0.4975        NaN                 NaN   \n",
      "\n",
      "    Unmet 1P1 Displaced  Unmet 1P1 Econ Dis  Unmet 1P1 Lim Eng  \\\n",
      "0                   NaN                 NaN                NaN   \n",
      "1                   NaN                 NaN                NaN   \n",
      "2                   NaN                 NaN                NaN   \n",
      "3                   NaN                 NaN                NaN   \n",
      "4                   NaN                 NaN                NaN   \n",
      "5                   NaN                 NaN                NaN   \n",
      "6                   NaN                 NaN                NaN   \n",
      "7                   NaN                 NaN                NaN   \n",
      "8                   NaN            0.250000                NaN   \n",
      "9                   NaN                 NaN                NaN   \n",
      "10                  NaN                 NaN                NaN   \n",
      "11                  NaN            0.375000                NaN   \n",
      "12                  NaN            0.357143                NaN   \n",
      "13                  NaN                 NaN                NaN   \n",
      "14                  NaN                 NaN                NaN   \n",
      "15                  NaN                 NaN                NaN   \n",
      "16                  NaN                 NaN                NaN   \n",
      "17                  NaN                 NaN                NaN   \n",
      "18                  NaN                 NaN                NaN   \n",
      "19                  NaN            0.333333                NaN   \n",
      "20                  NaN                 NaN                NaN   \n",
      "21                  NaN            0.200000                NaN   \n",
      "22                  NaN                 NaN                NaN   \n",
      "23                  NaN                 NaN                NaN   \n",
      "24                  NaN            0.200000                NaN   \n",
      "25                  NaN                 NaN                NaN   \n",
      "26                  NaN                 NaN                NaN   \n",
      "27                  NaN                 NaN                NaN   \n",
      "28                  NaN                 NaN                NaN   \n",
      "29                  NaN                 NaN                NaN   \n",
      "30             0.333333            0.486486                NaN   \n",
      "31                  NaN                 NaN                NaN   \n",
      "32                  NaN                 NaN                NaN   \n",
      "33                  NaN                 NaN               0.25   \n",
      "34                  NaN            0.285714                NaN   \n",
      "35                  NaN                 NaN                NaN   \n",
      "\n",
      "    Unmet 1P1 Sing Par  Measure 2P1  ...  Unmet 2P1  Unmet 2P1 Disabled  \\\n",
      "0                  NaN     0.666667  ...        NaN                 NaN   \n",
      "1                  NaN     0.454545  ...        NaN                 NaN   \n",
      "2                  NaN     0.545455  ...        NaN                 NaN   \n",
      "3                  NaN     0.727273  ...        NaN                 NaN   \n",
      "4                  NaN     0.900000  ...        NaN                 NaN   \n",
      "5                  NaN     0.461538  ...        NaN                 NaN   \n",
      "6                  NaN     0.666667  ...        NaN                 NaN   \n",
      "7                  NaN     0.800000  ...        NaN                 NaN   \n",
      "8                  NaN     0.461538  ...        NaN                 NaN   \n",
      "9                  NaN     1.000000  ...        NaN                 NaN   \n",
      "10                 NaN     0.888889  ...        NaN                 NaN   \n",
      "11                 NaN     0.566038  ...        NaN                 NaN   \n",
      "12                 NaN     0.800000  ...        NaN                 NaN   \n",
      "13                 NaN     1.000000  ...        NaN                 NaN   \n",
      "14                 NaN     0.416667  ...        NaN                 NaN   \n",
      "15                 NaN     0.666667  ...        NaN                 NaN   \n",
      "16                 NaN     1.000000  ...        NaN                 NaN   \n",
      "17                 NaN     0.782609  ...        NaN                 NaN   \n",
      "18                 NaN     0.700000  ...        NaN                 NaN   \n",
      "19                 NaN     0.901961  ...        NaN                 NaN   \n",
      "20                 NaN     0.909091  ...        NaN                 NaN   \n",
      "21                 NaN     0.684211  ...        NaN                 NaN   \n",
      "22                 NaN     0.769231  ...        NaN                 NaN   \n",
      "23                 NaN     0.535714  ...        NaN                 NaN   \n",
      "24                 NaN     0.612903  ...        NaN                 NaN   \n",
      "25                 NaN     0.103448  ...   0.103448                 0.2   \n",
      "26                 NaN     0.500000  ...        NaN                 NaN   \n",
      "27                 NaN     1.000000  ...        NaN                 NaN   \n",
      "28                 NaN     0.800000  ...        NaN                 NaN   \n",
      "29                 NaN     0.750000  ...        NaN                 NaN   \n",
      "30            0.250000     0.872727  ...        NaN                 NaN   \n",
      "31            0.428571     0.731544  ...        NaN                 NaN   \n",
      "32                 NaN     0.866667  ...        NaN                 NaN   \n",
      "33                 NaN     0.628571  ...        NaN                 NaN   \n",
      "34                 NaN     0.769231  ...        NaN                 NaN   \n",
      "35                 NaN     0.909091  ...        NaN                 NaN   \n",
      "\n",
      "    Unmet 2P1 Econ Dis  Unmet 2P1 Sing Par  Measure 3P1  Target 3  Unmet 3P1  \\\n",
      "0                  NaN                 NaN     0.131579    0.1675   0.131579   \n",
      "1                  NaN                 NaN     0.285714    0.1675        NaN   \n",
      "2                  NaN                 NaN     0.434783    0.1675        NaN   \n",
      "3                  NaN                 NaN     0.226415    0.1675        NaN   \n",
      "4                  NaN                 NaN     0.033333    0.1675   0.033333   \n",
      "5                  NaN                 NaN     0.148148    0.1675   0.148148   \n",
      "6                  NaN                 NaN     0.000000    0.1675   0.000000   \n",
      "7                  NaN                 NaN     0.000000    0.1675   0.000000   \n",
      "8                  NaN                 NaN     0.057143    0.1675   0.057143   \n",
      "9                  NaN                 NaN     0.100000    0.1675   0.100000   \n",
      "10                 NaN                 NaN          NaN       NaN        NaN   \n",
      "11                 NaN                 0.2     0.429752    0.1675        NaN   \n",
      "12                 NaN                 NaN     0.285714    0.1675        NaN   \n",
      "13                 NaN                 NaN     0.500000    0.1675        NaN   \n",
      "14                 NaN                 NaN          NaN       NaN        NaN   \n",
      "15                 NaN                 NaN          NaN       NaN        NaN   \n",
      "16                 NaN                 NaN     0.000000    0.1675   0.000000   \n",
      "17                 NaN                 NaN     0.066667    0.1675   0.066667   \n",
      "18                 NaN                 NaN     0.023810    0.1675   0.023810   \n",
      "19                 NaN                 NaN     0.215909    0.1675        NaN   \n",
      "20                 NaN                 NaN     0.185185    0.1675        NaN   \n",
      "21                 NaN                 NaN          NaN       NaN        NaN   \n",
      "22                 NaN                 NaN          NaN       NaN        NaN   \n",
      "23                 NaN                 NaN          NaN       NaN        NaN   \n",
      "24                 NaN                 NaN          NaN       NaN        NaN   \n",
      "25                0.08                 NaN          NaN       NaN        NaN   \n",
      "26                 NaN                 NaN     0.022222    0.1675   0.022222   \n",
      "27                 NaN                 NaN          NaN       NaN        NaN   \n",
      "28                 NaN                 NaN          NaN       NaN        NaN   \n",
      "29                 NaN                 NaN     0.367347    0.1675        NaN   \n",
      "30                 NaN                 NaN     0.163793    0.1675   0.163793   \n",
      "31                 NaN                 NaN     0.493631    0.1675        NaN   \n",
      "32                 NaN                 NaN     0.108696    0.1675   0.108696   \n",
      "33                 NaN                 NaN     0.343750    0.1675        NaN   \n",
      "34                 NaN                 NaN          NaN       NaN        NaN   \n",
      "35                 NaN                 NaN          NaN       NaN        NaN   \n",
      "\n",
      "    Unmet 3P1 Disabled  Unmet 3P1 Econ Dis  Unmet 3P1 Sing Par  \n",
      "0                  NaN            0.142857                 NaN  \n",
      "1                  NaN                 NaN                 NaN  \n",
      "2                  NaN                 NaN                 NaN  \n",
      "3                  NaN                 NaN                 NaN  \n",
      "4                  NaN            0.040000                 NaN  \n",
      "5                  NaN            0.125000                 NaN  \n",
      "6                  NaN                 NaN                 NaN  \n",
      "7                  NaN                 NaN                 NaN  \n",
      "8                  NaN                 NaN                 NaN  \n",
      "9                  NaN                 NaN                 NaN  \n",
      "10                 NaN                 NaN                 NaN  \n",
      "11                 NaN                 NaN                 NaN  \n",
      "12                 NaN                 NaN                 NaN  \n",
      "13                 NaN                 NaN                 NaN  \n",
      "14                 NaN                 NaN                 NaN  \n",
      "15                 NaN                 NaN                 NaN  \n",
      "16                 NaN                 NaN                 NaN  \n",
      "17                 NaN                 NaN                 NaN  \n",
      "18                 NaN            0.031250                 NaN  \n",
      "19                 0.1                 NaN                 NaN  \n",
      "20                 NaN                 NaN                 NaN  \n",
      "21                 NaN                 NaN                 NaN  \n",
      "22                 NaN                 NaN                 NaN  \n",
      "23                 NaN                 NaN                 NaN  \n",
      "24                 NaN                 NaN                 NaN  \n",
      "25                 NaN                 NaN                 NaN  \n",
      "26                 NaN                 NaN                 NaN  \n",
      "27                 NaN                 NaN                 NaN  \n",
      "28                 NaN                 NaN                 NaN  \n",
      "29                 NaN                 NaN                 NaN  \n",
      "30                 NaN            0.159091            0.105263  \n",
      "31                 NaN                 NaN                 NaN  \n",
      "32                 NaN            0.150000                 NaN  \n",
      "33                 NaN                 NaN            0.111111  \n",
      "34                 NaN                 NaN                 NaN  \n",
      "35                 NaN                 NaN                 NaN  \n",
      "\n",
      "[36 rows x 21 columns]\n"
     ]
    },
    {
     "name": "stdout",
     "output_type": "stream",
     "text": [
      "Export measures to Excel? Y/N:y\n",
      "Exported to measures.xlsx\n"
     ]
    }
   ],
   "source": [
    "    \n",
    "print(measures)\n",
    "choice = input('Export measures to Excel? Y/N:')\n",
    "if ((choice =='Y') | (choice =='y')):\n",
    "    measures.to_excel('measures.xlsx',index=None)\n",
    "    print('Exported to measures.xlsx')\n",
    "else:\n",
    "    \n",
    "    pass"
   ]
  },
  {
   "cell_type": "code",
   "execution_count": null,
   "id": "0238834d",
   "metadata": {},
   "outputs": [],
   "source": [
    "measures"
   ]
  },
  {
   "cell_type": "code",
   "execution_count": null,
   "id": "9921e9bf",
   "metadata": {},
   "outputs": [],
   "source": []
  }
 ],
 "metadata": {
  "kernelspec": {
   "display_name": "Python 3 (ipykernel)",
   "language": "python",
   "name": "python3"
  },
  "language_info": {
   "codemirror_mode": {
    "name": "ipython",
    "version": 3
   },
   "file_extension": ".py",
   "mimetype": "text/x-python",
   "name": "python",
   "nbconvert_exporter": "python",
   "pygments_lexer": "ipython3",
   "version": "3.9.7"
  }
 },
 "nbformat": 4,
 "nbformat_minor": 5
}
