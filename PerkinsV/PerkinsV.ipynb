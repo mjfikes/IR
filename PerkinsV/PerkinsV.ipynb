{
 "cells": [
  {
   "cell_type": "markdown",
   "id": "35f73e99",
   "metadata": {},
   "source": [
    "## Perkins V - Calculating Performance Indicators by CIP"
   ]
  },
  {
   "cell_type": "code",
   "execution_count": 1,
   "id": "bf3bb5cd",
   "metadata": {},
   "outputs": [],
   "source": [
    "import pandas as pd\n",
    "import numpy as np"
   ]
  },
  {
   "cell_type": "markdown",
   "id": "a46941ed",
   "metadata": {},
   "source": [
    "### This code will calculate the Perkins 2P1 and 3P1 performance indicators.\n",
    "\n",
    "#### If your file is not named CTEA.xlsx the code will prompt you to enter the filename. This assumes values in CTEA file are numeric and not descriptions (e.g. non-completion status codes are 4 and 6). This was designed only for the CTEA-1 but can be modified."
   ]
  },
  {
   "cell_type": "code",
   "execution_count": 2,
   "id": "3454b24e",
   "metadata": {
    "scrolled": true
   },
   "outputs": [
    {
     "name": "stdout",
     "output_type": "stream",
     "text": [
      "File CTEA.xlsx loaded successfully\n"
     ]
    }
   ],
   "source": [
    "file = 'CTEA.xlsx'\n",
    "\n",
    "try:\n",
    "    data = pd.read_excel(file)\n",
    "    print('File {0} loaded successfully'.format(file))\n",
    "except:\n",
    "    file = input('CTEA.xlsx not found. Please enter the full filename: ')\n",
    "    try:\n",
    "        data = pd.read_excel(file)\n",
    "        print('File {0} loaded successfully'.format(file))\n",
    "    except:\n",
    "        print('No file found')\n",
    "        exit\n",
    "    "
   ]
  },
  {
   "cell_type": "code",
   "execution_count": 3,
   "id": "6d2a54b7",
   "metadata": {},
   "outputs": [],
   "source": [
    "# fields to use for calculations from merged CTEA 1A/B - can be renamed if your fields are different\n",
    "cip_field = 'CTEA 1A / CIP Code / DYN||8774_DYN'\n",
    "status_field = 'CTEA 1A / YRENDSTAT_ID / DYN||8765_DYN'\n",
    "credit_field = 'CTEA 1A / Credits Earned / DYN||8763_DYN'\n",
    "emp_field = 'CTEA 1B / EMPSTAT_ID / DYN||8785_DYN'\n",
    "educ_field = 'CTEA 1B / EDUCSTAT_ID / DYN||8784_DYN'\n",
    "id_field = 'CTEA 1A / Student ID / DYN||8761_DYN'\n",
    "gender_field = 'CTEA 1A / Gender / DYN||8770_DYN'"
   ]
  },
  {
   "cell_type": "markdown",
   "id": "f379368e",
   "metadata": {},
   "source": [
    "### Get Non-traditional Crosswalk"
   ]
  },
  {
   "cell_type": "code",
   "execution_count": 4,
   "id": "9fc12f46",
   "metadata": {
    "scrolled": true
   },
   "outputs": [
    {
     "name": "stdout",
     "output_type": "stream",
     "text": [
      "Downloading Non-traditional crosswalk from  https://s3.amazonaws.com/PCRN/docs/REVISED_FINAL-2020-Nontraditional-Crosswalk-6-9-2021.xlsx\n",
      "Loaded successfully\n"
     ]
    }
   ],
   "source": [
    "xwalk_url = 'https://s3.amazonaws.com/PCRN/docs/REVISED_FINAL-2020-Nontraditional-Crosswalk-6-9-2021.xlsx'\n",
    "try:\n",
    "    print('Downloading Non-traditional crosswalk from ',xwalk_url)\n",
    "    nontrad_xwalk = pd.read_excel(xwalk_url)\n",
    "    print('Loaded successfully')\n",
    "except:\n",
    "    print('Unable to connect to ',xwalk_url)"
   ]
  },
  {
   "cell_type": "markdown",
   "id": "d1d0d227",
   "metadata": {},
   "source": [
    "### Join CTEA to crosswalk and separate completers"
   ]
  },
  {
   "cell_type": "code",
   "execution_count": 5,
   "id": "9b8d8fb9",
   "metadata": {},
   "outputs": [],
   "source": [
    "# merge crosswalk with loaded CTEA file, joined by CIP\n",
    "new_data = nontrad_xwalk[['CIP 6 2020','Female','Male']].merge(data,left_on='CIP 6 2020',right_on=cip_field,how='right')"
   ]
  },
  {
   "cell_type": "code",
   "execution_count": 6,
   "id": "19e1fd76",
   "metadata": {},
   "outputs": [],
   "source": [
    "# splits completers based on status codes 4 and 6 and total credits >=12\n",
    "completer_set = new_data[(new_data[status_field].isin([4,6])) | (new_data[credit_field]>=12)] #make numerator data"
   ]
  },
  {
   "cell_type": "code",
   "execution_count": 7,
   "id": "ebce20bf",
   "metadata": {},
   "outputs": [],
   "source": [
    "# uncomment to make dataframe of noncompleters\n",
    "#non_completers = pd.merge(new_data,completer_set,how='outer',on=id_field,indicator=True)\n",
    "#noncomp_df = non_completers.loc[non_completers._merge == 'left_only']"
   ]
  },
  {
   "cell_type": "markdown",
   "id": "c2d2720c",
   "metadata": {},
   "source": [
    "## 1P1 Performance Indicator"
   ]
  },
  {
   "cell_type": "code",
   "execution_count": 8,
   "id": "0a9b5438",
   "metadata": {},
   "outputs": [],
   "source": [
    "num_1p1 = completer_set[(completer_set[status_field].isin([4,6])) & \n",
    "                        ((completer_set[emp_field].isin([1,2,3,7,8,9]))|\n",
    "                          (completer_set[educ_field]==1))]\n",
    "den_1p1 = completer_set[(completer_set[status_field].isin([4,6]))]"
   ]
  },
  {
   "cell_type": "code",
   "execution_count": 9,
   "id": "e15f67a1",
   "metadata": {},
   "outputs": [],
   "source": [
    "num_grp_1 = num_1p1.groupby(cip_field)[id_field].count()\n",
    "den_grp_1 = den_1p1.groupby(cip_field)[id_field].count()"
   ]
  },
  {
   "cell_type": "code",
   "execution_count": 10,
   "id": "6fe992f5",
   "metadata": {},
   "outputs": [],
   "source": [
    "percents_1p1 = num_grp_1.divide(den_grp_1,fill_value=0)"
   ]
  },
  {
   "cell_type": "code",
   "execution_count": 11,
   "id": "4c65d723",
   "metadata": {},
   "outputs": [
    {
     "data": {
      "text/plain": [
       "CTEA 1A / CIP Code / DYN||8774_DYN\n",
       "11.0201    0.333333\n",
       "11.0401    0.800000\n",
       "11.0701    0.666667\n",
       "11.1003    0.750000\n",
       "15.0201    0.888889\n",
       "15.0303    0.666667\n",
       "15.0407    0.000000\n",
       "15.0801    1.000000\n",
       "15.0805    0.333333\n",
       "15.1302    0.500000\n",
       "31.0101    0.625000\n",
       "43.0103    0.366667\n",
       "43.0107    0.312500\n",
       "43.0114    0.500000\n",
       "43.0204    0.700000\n",
       "44.0000    0.705882\n",
       "45.0702    1.000000\n",
       "47.0101    0.555556\n",
       "47.0201    0.000000\n",
       "48.0508    0.369565\n",
       "48.0510    0.500000\n",
       "50.0102    0.230769\n",
       "50.0406    0.500000\n",
       "50.0409    0.600000\n",
       "50.0410    0.210526\n",
       "51.0000    0.333333\n",
       "51.0707    0.555556\n",
       "51.0907    0.625000\n",
       "51.0908    0.166667\n",
       "51.1501    0.722222\n",
       "51.3801    0.437500\n",
       "52.0201    0.605505\n",
       "52.0205    0.692308\n",
       "52.0302    0.454545\n",
       "52.0401    0.400000\n",
       "52.0801    0.800000\n",
       "Name: CTEA 1A / Student ID / DYN||8761_DYN, dtype: float64"
      ]
     },
     "execution_count": 11,
     "metadata": {},
     "output_type": "execute_result"
    }
   ],
   "source": [
    "# view percents by CIP\n",
    "percents_1p1"
   ]
  },
  {
   "cell_type": "markdown",
   "id": "22c6b6d0",
   "metadata": {},
   "source": [
    "## 2P1 Performance Indicator"
   ]
  },
  {
   "cell_type": "code",
   "execution_count": 12,
   "id": "79ce3581",
   "metadata": {},
   "outputs": [],
   "source": [
    "num_2p1 = completer_set[(completer_set[status_field].isin([4,6]))]\n",
    "den_2p1 = completer_set[(completer_set[status_field].isin([4,5,6]))]"
   ]
  },
  {
   "cell_type": "code",
   "execution_count": 13,
   "id": "f7f3d7d8",
   "metadata": {},
   "outputs": [],
   "source": [
    "num_grp_2 = num_2p1.groupby(cip_field)[id_field].count()\n",
    "den_grp_2 = den_2p1.groupby(cip_field)[id_field].count()"
   ]
  },
  {
   "cell_type": "code",
   "execution_count": 14,
   "id": "8a4379e3",
   "metadata": {},
   "outputs": [],
   "source": [
    "percents_2p1 = num_grp_2.divide(den_grp_2,fill_value=0)"
   ]
  },
  {
   "cell_type": "code",
   "execution_count": 15,
   "id": "a29e1623",
   "metadata": {
    "scrolled": false
   },
   "outputs": [
    {
     "data": {
      "text/plain": [
       "CTEA 1A / CIP Code / DYN||8774_DYN\n",
       "11.0201    0.666667\n",
       "11.0401    0.454545\n",
       "11.0701    0.545455\n",
       "11.1003    0.727273\n",
       "15.0201    0.900000\n",
       "15.0303    0.461538\n",
       "15.0407    0.666667\n",
       "15.0616    0.000000\n",
       "15.0801    0.800000\n",
       "15.0805    0.461538\n",
       "15.1302    1.000000\n",
       "31.0101    0.888889\n",
       "43.0103    0.566038\n",
       "43.0107    0.800000\n",
       "43.0114    1.000000\n",
       "43.0204    0.416667\n",
       "44.0000    0.666667\n",
       "45.0702    1.000000\n",
       "47.0101    0.782609\n",
       "47.0201    0.700000\n",
       "48.0508    0.901961\n",
       "48.0510    0.909091\n",
       "50.0102    0.684211\n",
       "50.0406    0.769231\n",
       "50.0409    0.535714\n",
       "50.0410    0.612903\n",
       "51.0000    0.103448\n",
       "51.0707    0.500000\n",
       "51.0907    1.000000\n",
       "51.0908    0.800000\n",
       "51.1501    0.750000\n",
       "51.3801    0.872727\n",
       "52.0201    0.731544\n",
       "52.0205    0.866667\n",
       "52.0302    0.628571\n",
       "52.0401    0.769231\n",
       "52.0703    0.000000\n",
       "52.0801    0.909091\n",
       "Name: CTEA 1A / Student ID / DYN||8761_DYN, dtype: float64"
      ]
     },
     "execution_count": 15,
     "metadata": {},
     "output_type": "execute_result"
    }
   ],
   "source": [
    "# view percents by CIP\n",
    "percents_2p1"
   ]
  },
  {
   "cell_type": "markdown",
   "id": "a26ce710",
   "metadata": {},
   "source": [
    "## 3P1 Performance Indicator"
   ]
  },
  {
   "cell_type": "code",
   "execution_count": 16,
   "id": "a8a381b0",
   "metadata": {},
   "outputs": [],
   "source": [
    "nontrad_df = completer_set[((completer_set['Female']=='Y') & (completer_set[gender_field]==2))|((completer_set['Male']=='Y') & (completer_set[gender_field]==1))]\n",
    "cip_ntrad = nontrad_df.groupby(cip_field)[id_field].count()\n",
    "cip_heads = completer_set[(completer_set['Female']=='Y') | (completer_set['Male']=='Y')].groupby(cip_field)[id_field].count()\n",
    "percents_3p1 = cip_ntrad.divide(cip_heads,fill_value=0)"
   ]
  },
  {
   "cell_type": "code",
   "execution_count": 17,
   "id": "bc3f5747",
   "metadata": {},
   "outputs": [
    {
     "data": {
      "text/plain": [
       "CTEA 1A / CIP Code / DYN||8774_DYN\n",
       "11.0201    0.131579\n",
       "11.0401    0.285714\n",
       "11.0701    0.434783\n",
       "11.1003    0.226415\n",
       "13.1314    0.000000\n",
       "15.0201    0.033333\n",
       "15.0303    0.148148\n",
       "15.0407    0.000000\n",
       "15.0616    0.000000\n",
       "15.0801    0.000000\n",
       "15.0805    0.057143\n",
       "15.1302    0.100000\n",
       "43.0103    0.429752\n",
       "43.0107    0.285714\n",
       "43.0114    0.500000\n",
       "45.0702    0.000000\n",
       "47.0101    0.066667\n",
       "47.0201    0.023810\n",
       "48.0508    0.215909\n",
       "48.0510    0.185185\n",
       "51.0707    0.022222\n",
       "51.1501    0.367347\n",
       "51.3801    0.163793\n",
       "52.0201    0.493631\n",
       "52.0205    0.108696\n",
       "52.0302    0.343750\n",
       "Name: CTEA 1A / Student ID / DYN||8761_DYN, dtype: float64"
      ]
     },
     "execution_count": 17,
     "metadata": {},
     "output_type": "execute_result"
    }
   ],
   "source": [
    "# view percents by CIP\n",
    "percents_3p1"
   ]
  },
  {
   "cell_type": "code",
   "execution_count": 18,
   "id": "4c9f0816",
   "metadata": {
    "scrolled": true
   },
   "outputs": [],
   "source": [
    "# load measures into dataframe\n",
    "df1 = pd.DataFrame(percents_1p1).reset_index()\n",
    "df1.rename(columns={'CTEA 1A / Student ID / DYN||8761_DYN':'Measure 1P1'},inplace=True)\n",
    "df2 = pd.DataFrame(percents_2p1).reset_index()\n",
    "df2.rename(columns={'CTEA 1A / Student ID / DYN||8761_DYN':'Measure 2P1'},inplace=True)\n",
    "df3 = pd.DataFrame(percents_3p1).reset_index()\n",
    "df3.rename(columns={'CTEA 1A / Student ID / DYN||8761_DYN':'Measure 3P1'},inplace=True)\n",
    "m1 = df1.merge(df2,on='CTEA 1A / CIP Code / DYN||8774_DYN',how='left')\n",
    "measures = m1.merge(df3,on='CTEA 1A / CIP Code / DYN||8774_DYN',how='left')\n",
    "#measures.fillna('0.000000',inplace=True)"
   ]
  },
  {
   "cell_type": "code",
   "execution_count": 19,
   "id": "28bbb7c6",
   "metadata": {},
   "outputs": [],
   "source": [
    "num_3p1 = len(nontrad_df)"
   ]
  },
  {
   "cell_type": "code",
   "execution_count": 20,
   "id": "b9e9ac35",
   "metadata": {},
   "outputs": [],
   "source": [
    "den_3p1 = len(completer_set[(completer_set['Female']=='Y') | (completer_set['Male']=='Y')])"
   ]
  },
  {
   "cell_type": "markdown",
   "id": "93231483",
   "metadata": {},
   "source": [
    "## RESULTS"
   ]
  },
  {
   "cell_type": "code",
   "execution_count": 21,
   "id": "860d32f3",
   "metadata": {
    "scrolled": false
   },
   "outputs": [
    {
     "name": "stdout",
     "output_type": "stream",
     "text": [
      "Overall Performance for 1P1 is 52.44%\n",
      "Overall Performance for 2P1 is 69.35%\n",
      "Overall Performance for for 3P1 is 27.19%\n"
     ]
    }
   ],
   "source": [
    "print('Overall Performance for 1P1 is {0:.2f}%'.format(len(num_1p1)/len(den_1p1)*100))\n",
    "print('Overall Performance for 2P1 is {0:.2f}%'.format(len(num_2p1)/len(den_2p1)*100))\n",
    "print('Overall Performance for for 3P1 is {0:.2f}%'.format(num_3p1/den_3p1*100))"
   ]
  },
  {
   "cell_type": "code",
   "execution_count": null,
   "id": "27e6fe64",
   "metadata": {},
   "outputs": [
    {
     "name": "stdout",
     "output_type": "stream",
     "text": [
      "    CTEA 1A / CIP Code / DYN||8774_DYN  Measure 1P1  Measure 2P1  Measure 3P1\n",
      "0                              11.0201     0.333333     0.666667     0.131579\n",
      "1                              11.0401     0.800000     0.454545     0.285714\n",
      "2                              11.0701     0.666667     0.545455     0.434783\n",
      "3                              11.1003     0.750000     0.727273     0.226415\n",
      "4                              15.0201     0.888889     0.900000     0.033333\n",
      "5                              15.0303     0.666667     0.461538     0.148148\n",
      "6                              15.0407     0.000000     0.666667     0.000000\n",
      "7                              15.0801     1.000000     0.800000     0.000000\n",
      "8                              15.0805     0.333333     0.461538     0.057143\n",
      "9                              15.1302     0.500000     1.000000     0.100000\n",
      "10                             31.0101     0.625000     0.888889          NaN\n",
      "11                             43.0103     0.366667     0.566038     0.429752\n",
      "12                             43.0107     0.312500     0.800000     0.285714\n",
      "13                             43.0114     0.500000     1.000000     0.500000\n",
      "14                             43.0204     0.700000     0.416667          NaN\n",
      "15                             44.0000     0.705882     0.666667          NaN\n",
      "16                             45.0702     1.000000     1.000000     0.000000\n",
      "17                             47.0101     0.555556     0.782609     0.066667\n",
      "18                             47.0201     0.000000     0.700000     0.023810\n",
      "19                             48.0508     0.369565     0.901961     0.215909\n",
      "20                             48.0510     0.500000     0.909091     0.185185\n",
      "21                             50.0102     0.230769     0.684211          NaN\n",
      "22                             50.0406     0.500000     0.769231          NaN\n",
      "23                             50.0409     0.600000     0.535714          NaN\n",
      "24                             50.0410     0.210526     0.612903          NaN\n",
      "25                             51.0000     0.333333     0.103448          NaN\n",
      "26                             51.0707     0.555556     0.500000     0.022222\n",
      "27                             51.0907     0.625000     1.000000          NaN\n",
      "28                             51.0908     0.166667     0.800000          NaN\n",
      "29                             51.1501     0.722222     0.750000     0.367347\n",
      "30                             51.3801     0.437500     0.872727     0.163793\n",
      "31                             52.0201     0.605505     0.731544     0.493631\n",
      "32                             52.0205     0.692308     0.866667     0.108696\n",
      "33                             52.0302     0.454545     0.628571     0.343750\n",
      "34                             52.0401     0.400000     0.769231          NaN\n",
      "35                             52.0801     0.800000     0.909091          NaN\n"
     ]
    }
   ],
   "source": [
    "    \n",
    "print(measures)\n",
    "choice = input('Export measures to Excel? Y/N:')\n",
    "if ((choice =='Y') | (choice =='y')):\n",
    "    measures.to_excel('measures.xlsx',index=None)\n",
    "    print('Exported to measures.xlsx')\n",
    "else:\n",
    "    \n",
    "    pass"
   ]
  },
  {
   "cell_type": "code",
   "execution_count": null,
   "id": "783d677b",
   "metadata": {},
   "outputs": [],
   "source": []
  }
 ],
 "metadata": {
  "kernelspec": {
   "display_name": "Python 3 (ipykernel)",
   "language": "python",
   "name": "python3"
  },
  "language_info": {
   "codemirror_mode": {
    "name": "ipython",
    "version": 3
   },
   "file_extension": ".py",
   "mimetype": "text/x-python",
   "name": "python",
   "nbconvert_exporter": "python",
   "pygments_lexer": "ipython3",
   "version": "3.9.7"
  }
 },
 "nbformat": 4,
 "nbformat_minor": 5
}
