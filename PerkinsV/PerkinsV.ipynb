{
 "cells": [
  {
   "cell_type": "markdown",
   "id": "35f73e99",
   "metadata": {},
   "source": [
    "# Perkins V - Calculating Performance Indicators by CIP"
   ]
  },
  {
   "cell_type": "code",
   "execution_count": null,
   "id": "bf3bb5cd",
   "metadata": {},
   "outputs": [],
   "source": [
    "# Author: Matthew Fikes\n",
    "# Modified: 4/3/23\n",
    "import pandas as pd\n"
   ]
  },
  {
   "cell_type": "markdown",
   "id": "a46941ed",
   "metadata": {},
   "source": [
    "## This code will calculate the Perkins 1P1, 2P1, and 3P1 performance indicators for Chart 3 of the CLNA.\n",
    "\n",
    "#### If your file is not named CTEA.xlsx the code will prompt you to enter the filename. This assumes values in CTEA file are numeric and not descriptions (e.g. non-completion status codes are 4 and 6). This was designed only for the CTEA-1 but can be modified."
   ]
  },
  {
   "cell_type": "code",
   "execution_count": null,
   "id": "3454b24e",
   "metadata": {
    "scrolled": true
   },
   "outputs": [],
   "source": [
    "file = 'CTEA.xlsx'\n",
    "\n",
    "try:\n",
    "    data = pd.read_excel(file)\n",
    "    print(f'File {file} loaded successfully')\n",
    "except:\n",
    "    file = input(f'{file} not found. Please enter the full filename: ')\n",
    "    try:\n",
    "        data = pd.read_excel(file)\n",
    "        print('File {0} loaded successfully'.format(file))\n",
    "    except:\n",
    "        print('No file found')\n",
    "        exit\n",
    "    "
   ]
  },
  {
   "cell_type": "code",
   "execution_count": null,
   "id": "defeb3e6",
   "metadata": {},
   "outputs": [],
   "source": [
    "data.rename(columns=lambda x: x.split(' / ')[1],inplace=True)"
   ]
  },
  {
   "cell_type": "markdown",
   "id": "ae7e70be",
   "metadata": {},
   "source": [
    "### Static Variables\n",
    "These can be modified to suit your individual file. Targets for 1P1, 2P1, and 3P1 ar also included so they can be easily changed."
   ]
  },
  {
   "cell_type": "code",
   "execution_count": null,
   "id": "40315d8f",
   "metadata": {},
   "outputs": [],
   "source": [
    "target_1 = .5000\n",
    "target_2 = .2100\n",
    "target_3 = .1700"
   ]
  },
  {
   "cell_type": "code",
   "execution_count": null,
   "id": "5515a6e8",
   "metadata": {},
   "outputs": [],
   "source": [
    "# fields to use for calculations from merged CTEA 1A/B - can be renamed if your fields are different\n",
    "cip_field = 'CIP Code'\n",
    "status_field = 'YRENDSTAT_ID'\n",
    "credit_field = 'Credits Earned'\n",
    "emp_field = 'EMPSTAT_ID'\n",
    "educ_field = 'EDUCSTAT_ID'\n",
    "id_field = 'Student ID'\n",
    "gender_field = 'Gender'"
   ]
  },
  {
   "cell_type": "code",
   "execution_count": null,
   "id": "833f57ef",
   "metadata": {},
   "outputs": [],
   "source": [
    "# special population fields\n",
    "disab_field = 'Disabled'\n",
    "displ_field = 'DISPLACED_HM'\n",
    "econdis_field = 'Economic Disadvantage'\n",
    "homels_field = 'Homeless'\n",
    "lim_eng_field = 'Limited English'\n",
    "migr_field = 'Migrant'\n",
    "sparnt_field = 'Single Parent'\n",
    "youth_ao_field = 'Youth Aged Out'\n",
    "youth_af_field = 'Youth Armed Forces'\n",
    "spop_fields = [disab_field,displ_field,econdis_field,homels_field,lim_eng_field,migr_field,sparnt_field,youth_ao_field,youth_af_field]"
   ]
  },
  {
   "cell_type": "markdown",
   "id": "f379368e",
   "metadata": {},
   "source": [
    "### Get Non-traditional Crosswalk"
   ]
  },
  {
   "cell_type": "code",
   "execution_count": null,
   "id": "9fc12f46",
   "metadata": {
    "scrolled": true
   },
   "outputs": [],
   "source": [
    "xwalk_url = 'https://s3.amazonaws.com/PCRN/docs/REVISED_FINAL-2020-Nontraditional-Crosswalk-6-9-2021.xlsx'\n",
    "try:\n",
    "    print('Downloading Non-traditional crosswalk from ',xwalk_url)\n",
    "    nontrad_xwalk = pd.read_excel(xwalk_url)\n",
    "    print('Loaded successfully')\n",
    "except:\n",
    "    print('Unable to connect to ',xwalk_url)"
   ]
  },
  {
   "cell_type": "markdown",
   "id": "29df5fc6",
   "metadata": {},
   "source": [
    "### Join CTEA to crosswalk and separate completers"
   ]
  },
  {
   "cell_type": "code",
   "execution_count": null,
   "id": "9b8d8fb9",
   "metadata": {},
   "outputs": [],
   "source": [
    "# merge crosswalk with loaded CTEA file, joined by CIP\n",
    "new_data = nontrad_xwalk[['CIP 6 2020','Female','Male']].merge(data,left_on='CIP 6 2020',right_on=cip_field,how='inner')"
   ]
  },
  {
   "cell_type": "code",
   "execution_count": null,
   "id": "983f494a",
   "metadata": {},
   "outputs": [],
   "source": [
    "cip_list = pd.DataFrame(new_data['CIP 6 2020'].unique().tolist(),columns={'CIP'})\n",
    "cip_list['CIP Code'] = cip_list['CIP'].map('{:.4f}'.format)"
   ]
  },
  {
   "cell_type": "code",
   "execution_count": null,
   "id": "19e1fd76",
   "metadata": {},
   "outputs": [],
   "source": [
    "# splits completers based on status codes 4 and 6 and total credits >=12\n",
    "completer_set = new_data[(new_data[status_field].isin([4,6])) | (new_data[credit_field]>=12)] #make numerator data"
   ]
  },
  {
   "cell_type": "code",
   "execution_count": null,
   "id": "ebce20bf",
   "metadata": {},
   "outputs": [],
   "source": [
    "# uncomment to make dataframe of noncompleters\n",
    "#non_completers = pd.merge(new_data,completer_set,how='outer',on=id_field,indicator=True)\n",
    "#noncomp_df = non_completers.loc[non_completers._merge == 'left_only']"
   ]
  },
  {
   "cell_type": "markdown",
   "id": "beed7aea",
   "metadata": {},
   "source": [
    "## 1P1 Performance Indicator"
   ]
  },
  {
   "cell_type": "code",
   "execution_count": null,
   "id": "f5d1e94a",
   "metadata": {},
   "outputs": [],
   "source": [
    "num_1p1 = completer_set[(completer_set[status_field].isin([4,6])) & \n",
    "                        ((completer_set[emp_field].isin([1,2,3,7,8,9]))|\n",
    "                          (completer_set[educ_field]==1))]\n",
    "den_1p1 = completer_set[(completer_set[status_field].isin([4,6]))]"
   ]
  },
  {
   "cell_type": "code",
   "execution_count": null,
   "id": "46dd1fd0",
   "metadata": {},
   "outputs": [],
   "source": [
    "# Calculate performance for each special population by CIP, return values below target\n",
    "rows_1p1 = []\n",
    "for i in spop_fields:\n",
    "\n",
    "    lim_num = pd.DataFrame(num_1p1[(num_1p1[i]==1)])\n",
    "    lim_den = pd.DataFrame(den_1p1[(den_1p1[i]==1)])\n",
    "\n",
    "    num = pd.DataFrame(lim_num).filter([cip_field,i]).groupby(cip_field).count()\n",
    "    dem = pd.DataFrame(lim_den).filter([cip_field,i]).groupby(cip_field).count()\n",
    "    pct = num.divide(dem)\n",
    "    underperf = pct[(pct.values<target_1)]\n",
    "    \n",
    "    rows_1p1.append(underperf.reset_index())\n",
    "    \n",
    "spop_1p1 = pd.concat(rows_1p1).dropna(axis=1,how='all').groupby('CIP Code').max().reset_index()"
   ]
  },
  {
   "cell_type": "code",
   "execution_count": null,
   "id": "d7ff9762",
   "metadata": {},
   "outputs": [],
   "source": [
    "num_grp_1 = num_1p1.groupby(cip_field)[id_field].count()\n",
    "den_grp_1 = den_1p1.groupby(cip_field)[id_field].count()\n",
    "percents_1p1 = num_grp_1.divide(den_grp_1,fill_value=0)"
   ]
  },
  {
   "cell_type": "code",
   "execution_count": null,
   "id": "1d524da2",
   "metadata": {},
   "outputs": [],
   "source": [
    "percents_1p1"
   ]
  },
  {
   "cell_type": "markdown",
   "id": "e941fa32",
   "metadata": {},
   "source": [
    "### MOST RECENT PERFORMANCE DATA BY PROGRAM"
   ]
  },
  {
   "cell_type": "code",
   "execution_count": null,
   "id": "5f036bc3",
   "metadata": {},
   "outputs": [],
   "source": [
    "pf1p1a = zip(percents_1p1.index,percents_1p1.values)\n",
    "for i in pf1p1a:\n",
    "    print('{0:.4f}---{1:.2f}%'.format(i[0],i[1]*100))"
   ]
  },
  {
   "cell_type": "markdown",
   "id": "7b3087a4",
   "metadata": {},
   "source": [
    "### PROGRAMS NOT MEETING TARGET"
   ]
  },
  {
   "cell_type": "code",
   "execution_count": null,
   "id": "9fe8af6b",
   "metadata": {
    "scrolled": true
   },
   "outputs": [],
   "source": [
    "p_unmet_1p1 = pd.DataFrame(percents_1p1[(percents_1p1.values<=target_1)]).reset_index().set_index('CIP Code')\n",
    "p_unmet_1p1_pf = percents_1p1[(percents_1p1.values<=target_1)]"
   ]
  },
  {
   "cell_type": "code",
   "execution_count": null,
   "id": "1da4f6b5",
   "metadata": {},
   "outputs": [],
   "source": [
    "pf1p1b = zip(p_unmet_1p1_pf.index,p_unmet_1p1_pf.values)\n",
    "for i in pf1p1b:\n",
    "    print('{0:.4f}---{1:.2f}%'.format(i[0],i[1]*100))"
   ]
  },
  {
   "cell_type": "markdown",
   "id": "9f1500f4",
   "metadata": {},
   "source": [
    "### SPECIAL POPULATIONS NOT MEETING TARGET WITHIN PROGRAMS"
   ]
  },
  {
   "cell_type": "code",
   "execution_count": null,
   "id": "7c0b0671",
   "metadata": {
    "scrolled": true
   },
   "outputs": [],
   "source": [
    "# Special Pops falling below 1P1 target, by CIP\n",
    "unmet_spop_1p1 = spop_1p1.set_index('CIP Code')\n"
   ]
  },
  {
   "cell_type": "code",
   "execution_count": null,
   "id": "49bd3331",
   "metadata": {
    "scrolled": false
   },
   "outputs": [],
   "source": [
    "for items in rows_1p1:\n",
    "    try:\n",
    "        print(items.columns[1])\n",
    "        for v in items.values:\n",
    "            cip = v[0]\n",
    "            meas = v[1]\n",
    "            print('{0:.4f}---{1:.2f}%'.format(cip,meas*100))\n",
    "\n",
    "    except:\n",
    "        print('NA')\n",
    "    "
   ]
  },
  {
   "cell_type": "markdown",
   "id": "b5617456",
   "metadata": {},
   "source": [
    "## 2P1 Performance Indicator"
   ]
  },
  {
   "cell_type": "code",
   "execution_count": null,
   "id": "79ce3581",
   "metadata": {},
   "outputs": [],
   "source": [
    "num_2p1 = completer_set[(completer_set[status_field].isin([4,6]))]\n",
    "den_2p1 = completer_set[(completer_set[status_field].isin([4,5,6]))]\n",
    "num_grp_2 = num_2p1.groupby(cip_field)[id_field].count()\n",
    "den_grp_2 = den_2p1.groupby(cip_field)[id_field].count()"
   ]
  },
  {
   "cell_type": "code",
   "execution_count": null,
   "id": "86076acf",
   "metadata": {},
   "outputs": [],
   "source": [
    "# Calculate performance for each special population by CIP, return values below target\n",
    "rows_2p1 = []\n",
    "for i in spop_fields:\n",
    "\n",
    "    lim_num = pd.DataFrame(num_2p1[(num_2p1[i]==1)])\n",
    "    lim_den = pd.DataFrame(den_2p1[(den_2p1[i]==1)])\n",
    "\n",
    "    num = pd.DataFrame(lim_num).filter([cip_field,i]).groupby(cip_field).count()\n",
    "    den = pd.DataFrame(lim_den).filter([cip_field,i]).groupby(cip_field).count()\n",
    "    pct = num.divide(den)\n",
    "    \n",
    "    underperf = pct[(pct.values<=target_2)]\n",
    "    if len(underperf)>0:\n",
    "        rows_2p1.append(underperf.reset_index())\n",
    "    \n",
    "try:\n",
    "    spop_2p1 = pd.concat(rows_2p1).dropna(axis=1,how='all').groupby('CIP Code').max().reset_index()\n",
    "except:\n",
    "    \n",
    "    spop_2p1 = pd.DataFrame(columns={'CIP Code'})"
   ]
  },
  {
   "cell_type": "code",
   "execution_count": null,
   "id": "8a4379e3",
   "metadata": {},
   "outputs": [],
   "source": [
    "percents_2p1 = num_grp_2.divide(den_grp_2,fill_value=0)\n",
    "percents_2p1"
   ]
  },
  {
   "cell_type": "markdown",
   "id": "f0c47c81",
   "metadata": {},
   "source": [
    "### MOST RECENT PERFORMANCE DATA BY PROGRAM"
   ]
  },
  {
   "cell_type": "code",
   "execution_count": null,
   "id": "049f827d",
   "metadata": {},
   "outputs": [],
   "source": [
    "pf2p1a = zip(percents_2p1.index,percents_2p1.values)\n",
    "for i in pf2p1a:\n",
    "    print('{0:.4f}---{1:.2f}%'.format(i[0],i[1]*100))"
   ]
  },
  {
   "cell_type": "markdown",
   "id": "fa58512c",
   "metadata": {},
   "source": [
    "### PROGRAMS NOT MEETING TARGET"
   ]
  },
  {
   "cell_type": "code",
   "execution_count": null,
   "id": "d7ea74a4",
   "metadata": {
    "scrolled": true
   },
   "outputs": [],
   "source": [
    "p_unmet_2p1 = pd.DataFrame(percents_2p1[(percents_2p1.values<=target_2)]).reset_index().set_index('CIP Code')\n",
    "p_unmet_2p1_pf = percents_2p1[(percents_2p1.values<=target_2)]"
   ]
  },
  {
   "cell_type": "code",
   "execution_count": null,
   "id": "d8414259",
   "metadata": {},
   "outputs": [],
   "source": [
    "pf2p1b = zip(p_unmet_2p1_pf.index,p_unmet_2p1_pf.values)\n",
    "for i in pf2p1b:\n",
    "    print('{0:.4f}---{1:.2f}%'.format(i[0],i[1]*100))"
   ]
  },
  {
   "cell_type": "markdown",
   "id": "1beb5377",
   "metadata": {},
   "source": [
    "### SPECIAL POPULATIONS NOT MEETING TARGET WITHIN PROGRAMS"
   ]
  },
  {
   "cell_type": "code",
   "execution_count": null,
   "id": "d100cbaf",
   "metadata": {
    "scrolled": false
   },
   "outputs": [],
   "source": [
    "# Special Pops falling below 1P1 target, by CIP\n",
    "unmet_spop_2p1 = spop_2p1.set_index('CIP Code')"
   ]
  },
  {
   "cell_type": "code",
   "execution_count": null,
   "id": "a82a0463",
   "metadata": {
    "scrolled": false
   },
   "outputs": [],
   "source": [
    "for items in rows_2p1:\n",
    "    try:\n",
    "        print(items.columns[1])\n",
    "        for v in items.values:\n",
    "            cip = v[0]\n",
    "            meas = v[1]\n",
    "            print('{0:.4f}---{1:.2f}%'.format(cip,meas*100))\n",
    "\n",
    "    except:\n",
    "        print('NA')\n",
    "    "
   ]
  },
  {
   "cell_type": "markdown",
   "id": "adc7d27a",
   "metadata": {},
   "source": [
    "## 3P1 Performance Indicator"
   ]
  },
  {
   "cell_type": "code",
   "execution_count": null,
   "id": "a8a381b0",
   "metadata": {},
   "outputs": [],
   "source": [
    "num_3p1 = completer_set[((completer_set['Female']=='Y') & (completer_set[gender_field]==2))|((completer_set['Male']=='Y') & (completer_set[gender_field]==1))]\n",
    "num_grp_3 = num_3p1.groupby(cip_field)[id_field].count()\n",
    "den_3p1 = completer_set[(completer_set['Female']=='Y') | (completer_set['Male']=='Y')]\n",
    "den_grp_3 = den_3p1.groupby(cip_field)[id_field].count()\n",
    "percents_3p1 = num_grp_3.divide(den_grp_3,fill_value=0)"
   ]
  },
  {
   "cell_type": "code",
   "execution_count": null,
   "id": "03159dcb",
   "metadata": {},
   "outputs": [],
   "source": [
    "# Calculate performance for each special population by CIP, return values below target\n",
    "rows_3p1 = []\n",
    "for i in spop_fields:\n",
    "\n",
    "    lim_num = pd.DataFrame(num_3p1[(num_3p1[i]==1)])\n",
    "    lim_den = pd.DataFrame(den_3p1[(den_3p1[i]==1)])\n",
    "\n",
    "    num = pd.DataFrame(lim_num).filter([cip_field,i]).groupby(cip_field).count()\n",
    "    dem = pd.DataFrame(lim_den).filter([cip_field,i]).groupby(cip_field).count()\n",
    "    pct = num.divide(dem)\n",
    "    underperf = pct[(pct.values<=target_3)]\n",
    "    \n",
    "    rows_3p1.append(underperf.reset_index())\n",
    "    \n",
    "spop_3p1 = pd.concat(rows_3p1).dropna(axis=1,how='all').groupby('CIP Code').max().reset_index()"
   ]
  },
  {
   "cell_type": "markdown",
   "id": "f6bf6808",
   "metadata": {},
   "source": [
    "### MOST RECENT PERFORMANCE DATA BY PROGRAM"
   ]
  },
  {
   "cell_type": "code",
   "execution_count": null,
   "id": "c8e673ac",
   "metadata": {},
   "outputs": [],
   "source": [
    "pf3p1a = zip(percents_3p1.index,percents_3p1.values)\n",
    "for i in pf3p1a:\n",
    "    print('{0:.4f}---{1:.2f}%'.format(i[0],i[1]*100))"
   ]
  },
  {
   "cell_type": "markdown",
   "id": "44bf4d17",
   "metadata": {},
   "source": [
    "### PROGRAMS NOT MEETING TARGET"
   ]
  },
  {
   "cell_type": "code",
   "execution_count": null,
   "id": "243ac065",
   "metadata": {
    "scrolled": false
   },
   "outputs": [],
   "source": [
    "p_unmet_3p1 = pd.DataFrame(percents_3p1[(percents_3p1.values<=target_3)]).reset_index().set_index('CIP Code')\n",
    "p_unmet_3p1_pf = percents_3p1[(percents_3p1.values<=target_3)]"
   ]
  },
  {
   "cell_type": "code",
   "execution_count": null,
   "id": "a6741a97",
   "metadata": {},
   "outputs": [],
   "source": [
    "pf3p1b = zip(p_unmet_3p1_pf.index,p_unmet_3p1_pf.values)\n",
    "for i in pf3p1b:\n",
    "    print('{0:.4f}---{1:.2f}%'.format(i[0],i[1]*100))"
   ]
  },
  {
   "cell_type": "markdown",
   "id": "66cd69bc",
   "metadata": {},
   "source": [
    "### SPECIAL POPULATIONS NOT MEETING TARGET WITHIN PROGRAMS"
   ]
  },
  {
   "cell_type": "code",
   "execution_count": null,
   "id": "83b785d8",
   "metadata": {
    "scrolled": true
   },
   "outputs": [],
   "source": [
    "# Special Pops falling below 1P1 target, by CIP\n",
    "unmet_spop_3p1 = spop_3p1.set_index('CIP Code')\n"
   ]
  },
  {
   "cell_type": "code",
   "execution_count": null,
   "id": "21264723",
   "metadata": {
    "scrolled": false
   },
   "outputs": [],
   "source": [
    "for items in rows_3p1:\n",
    "    try:\n",
    "        print(items.columns[1])\n",
    "        for v in items.values:\n",
    "            cip = v[0]\n",
    "            meas = v[1]\n",
    "            print('{0:.4f}---{1:.2f}%'.format(cip,meas*100))\n",
    "\n",
    "    except:\n",
    "        print('NA')\n",
    "    "
   ]
  },
  {
   "cell_type": "markdown",
   "id": "28e65688",
   "metadata": {},
   "source": [
    "## RESULTS"
   ]
  },
  {
   "cell_type": "code",
   "execution_count": null,
   "id": "4c9f0816",
   "metadata": {
    "scrolled": true
   },
   "outputs": [],
   "source": [
    "# load measures into dataframe\n",
    "df1a = pd.DataFrame(percents_1p1).reset_index()\n",
    "df1a['Target 1'] = target_1\n",
    "df1a.rename(columns={id_field:'Measure 1P1'},inplace=True)\n",
    "df1b = df1a.merge(p_unmet_1p1,on='CIP Code',how='left')\n",
    "df1b.rename(columns={id_field:'Unmet 1P1'},inplace=True)\n",
    "df1c =spop_1p1\n",
    "df1c.rename(columns={'Disabled':'Unmet 1P1 Disabled',\n",
    "                     'DISPLACED_HM': 'Unmet 1P1 Displaced',\n",
    "                     'Economic Disadvantage': 'Unmet 1P1 Econ Dis',\n",
    "                     'Homeless': 'Unmet 1P1 Homeless',\n",
    "                     'Limited English': 'Unmet 1P1 Lim Eng',\n",
    "                     'Migrant': 'Unmet 1P1 Migrant',\n",
    "                     'Single Parent': 'Unmet 1P1 Sing Par',\n",
    "                     'Youth Aged Out': 'Unmet 1P1 Aged Out',\n",
    "                     'Youth Armed Forces': 'Unmet 1P1 Armed Forces'\n",
    "                     \n",
    "                    },inplace=True)\n",
    "df1 = df1b.merge(df1c,on='CIP Code',how='left')\n",
    "\n",
    "\n",
    "\n",
    "df2a = pd.DataFrame(percents_2p1).reset_index()\n",
    "df2a['Target 2'] = target_2\n",
    "df2a.rename(columns={'Student ID':'Measure 2P1'},inplace=True)\n",
    "df2b = df2a.merge(p_unmet_2p1,on='CIP Code',how='left')\n",
    "df2b.rename(columns={'Student ID':'Unmet 2P1'},inplace=True)\n",
    "df2c =spop_2p1\n",
    "df2c.rename(columns={'Disabled':'Unmet 2P1 Disabled',\n",
    "                     'DISPLACED_HM': 'Unmet 2P1 Displaced',\n",
    "                     'Economic Disadvantage': 'Unmet 2P1 Econ Dis',\n",
    "                     'Homeless': 'Unmet 2P1 Homeless',\n",
    "                     'Limited English': 'Unmet 2P1 Lim Eng',\n",
    "                     'Migrant': 'Unmet 2P1 Migrant',\n",
    "                     'Single Parent': 'Unmet 2P1 Sing Par',\n",
    "                     'Youth Aged Out': 'Unmet 2P1 Aged Out',\n",
    "                     'Youth Armed Forces': 'Unmet 2P1 Armed Forces'\n",
    "                     \n",
    "                    },inplace=True)\n",
    "df2 = df2b.merge(df2c,on=cip_field,how='left')\n",
    "\n",
    "\n",
    "df3a = pd.DataFrame(percents_3p1).reset_index()\n",
    "df3a['Target 3'] = target_3\n",
    "df3a.rename(columns={'Student ID':'Measure 3P1'},inplace=True)\n",
    "df3b = df3a.merge(p_unmet_3p1,on='CIP Code',how='left')\n",
    "df3b.rename(columns={'Student ID':'Unmet 3P1'},inplace=True)\n",
    "df3c =spop_3p1\n",
    "df3c.rename(columns={'Disabled':'Unmet 3P1 Disabled',\n",
    "                     'DISPLACED_HM': 'Unmet 3P1 Displaced',\n",
    "                     'Economic Disadvantage': 'Unmet 3P1 Econ Dis',\n",
    "                     'Homeless': 'Unmet 3P1 Homeless',\n",
    "                     'Limited English': 'Unmet 3P1 Lim Eng',\n",
    "                     'Migrant': 'Unmet 3P1 Migrant',\n",
    "                     'Single Parent': 'Unmet 3P1 Sing Par',\n",
    "                     'Youth Aged Out': 'Unmet 3P1 Aged Out',\n",
    "                     'Youth Armed Forces': 'Unmet 3P1 Armed Forces'\n",
    "                     \n",
    "                    },inplace=True)\n",
    "df3 = df3b.merge(df3c,on=cip_field,how='left')\n",
    "\n",
    "m1 = df1.merge(df2,on=cip_field,how='left')\n",
    "measures = m1.merge(df3,on=cip_field,how='left')\n",
    "measures['CIP Code'] = measures['CIP Code'].map('{:.4f}'.format)\n",
    "final_measures = measures.merge(cip_list,on='CIP Code',how='right')\n"
   ]
  },
  {
   "cell_type": "code",
   "execution_count": null,
   "id": "860d32f3",
   "metadata": {
    "scrolled": false
   },
   "outputs": [],
   "source": [
    "print('Overall Performance for 1P1 is {0:.2f}%'.format(len(num_1p1)/len(den_1p1)*100))\n",
    "print('Overall Performance for 2P1 is {0:.2f}%'.format(len(num_2p1)/len(den_2p1)*100))\n",
    "print('Overall Performance for for 3P1 is {0:.2f}%'.format(len(num_3p1)/len(den_3p1)*100))"
   ]
  },
  {
   "cell_type": "code",
   "execution_count": null,
   "id": "c394e331",
   "metadata": {},
   "outputs": [],
   "source": [
    "final_measures.dropna(subset=['CIP Code'])"
   ]
  },
  {
   "cell_type": "code",
   "execution_count": null,
   "id": "efaebcce",
   "metadata": {},
   "outputs": [],
   "source": [
    "measures.to_excel('measures.xlsx',index=None)\n",
    "print('Exported to measures.xlsx')\n"
   ]
  },
  {
   "cell_type": "markdown",
   "id": "961df032",
   "metadata": {},
   "source": [
    "## Chart 7b: Access and Equity\n",
    "\n",
    "These lines will output the answers for Chart7b of the CLNA. Any CIPs that do not appear on the list have zero enrollment or completion for that special population. If you wish to show all of them, uncomment the print statements under each else in the lines below."
   ]
  },
  {
   "cell_type": "code",
   "execution_count": null,
   "id": "19540805",
   "metadata": {},
   "outputs": [],
   "source": [
    "concentrator_set = new_data[(new_data[credit_field]>=12)]"
   ]
  },
  {
   "cell_type": "code",
   "execution_count": null,
   "id": "90f301db",
   "metadata": {},
   "outputs": [],
   "source": [
    "spop_enrl = concentrator_set\n",
    "spop_compl = completer_set[(completer_set[status_field].isin([4,6]))]\n",
    "\n",
    "num_grp_2 = num_2p1.groupby(cip_field)[id_field].count()\n",
    "den_grp_2 = den_2p1.groupby(cip_field)[id_field].count()"
   ]
  },
  {
   "cell_type": "code",
   "execution_count": null,
   "id": "48fd91e7",
   "metadata": {
    "scrolled": true
   },
   "outputs": [],
   "source": [
    "nontrad_enrl = concentrator_set[((concentrator_set['Female']=='Y') & (concentrator_set[gender_field]==2))|((concentrator_set['Male']=='Y') & (concentrator_set[gender_field]==1))]\n",
    "nontrad_comp = spop_compl[((spop_compl['Female']=='Y') & (spop_compl[gender_field]==2))|((spop_compl['Male']=='Y') & (spop_compl[gender_field]==1))]\n",
    "\n",
    "nt_enrl = len(nontrad_enrl)\n",
    "nt_comp = len(nontrad_comp)\n",
    "\n",
    "nt_num = pd.DataFrame(nontrad_enrl).groupby(cip_field)['Student ID'].count()\n",
    "nt_den = pd.DataFrame(concentrator_set).groupby(cip_field)['Student ID'].count()\n",
    "nt_pct = nt_num.divide(nt_den)\n",
    "\n",
    "ntc_num = pd.DataFrame(nontrad_comp).groupby(cip_field)['Student ID'].count()\n",
    "ntc_den = pd.DataFrame(spop_compl).groupby(cip_field)['Student ID'].count()\n",
    "ntc_pct = ntc_num.divide(ntc_den)\n"
   ]
  },
  {
   "cell_type": "markdown",
   "id": "29e7dc34",
   "metadata": {},
   "source": [
    "### Non-Traditional Enrollment"
   ]
  },
  {
   "cell_type": "code",
   "execution_count": null,
   "id": "ef72f97b",
   "metadata": {
    "scrolled": true
   },
   "outputs": [],
   "source": [
    "for i in range(1,len(nt_pct)):\n",
    "    cip = nt_pct.index[i]\n",
    "    meas = nt_pct.values[i]\n",
    "    if meas >0:\n",
    "        \n",
    "        print('{0:.4f}---{1:.2f}%'.format(cip,meas*100))\n",
    "    else:\n",
    "        #print('{0:.4f}---{1:.2f}%'.format(cip,0))\n",
    "        next"
   ]
  },
  {
   "cell_type": "markdown",
   "id": "8b45dc66",
   "metadata": {},
   "source": [
    "### Non-traditional Completion Rates"
   ]
  },
  {
   "cell_type": "code",
   "execution_count": null,
   "id": "38fbaeb2",
   "metadata": {
    "scrolled": true
   },
   "outputs": [],
   "source": [
    "for i in range(1,len(ntc_pct)):\n",
    "    cip = ntc_pct.index[i]\n",
    "    meas = ntc_pct.values[i]\n",
    "    if meas >0:\n",
    "        \n",
    "        print('{0:.4f}---{1:.2f}%'.format(cip,meas*100))\n",
    "    else:\n",
    "        #print('{0:.4f}---{1:.2f}%'.format(cip,0))\n",
    "        next"
   ]
  },
  {
   "cell_type": "markdown",
   "id": "c0e372c7",
   "metadata": {},
   "source": [
    "## Enrollment and Completion by Special Populations"
   ]
  },
  {
   "cell_type": "code",
   "execution_count": null,
   "id": "b29e7d23",
   "metadata": {
    "scrolled": true
   },
   "outputs": [],
   "source": [
    "# Calculate performance for each special population by CIP, return values below target\n",
    "enr_rate = []\n",
    "comp_rate = []\n",
    "for i in spop_fields:\n",
    "\n",
    "    sp_num = pd.DataFrame(spop_enrl[(spop_enrl[i]==1)])\n",
    "    sp_den = spop_enrl\n",
    "    \n",
    "    spc_num = pd.DataFrame(spop_compl[(spop_compl[i]==1)])\n",
    "    spc_den = spop_compl\n",
    "  \n",
    "    num = pd.DataFrame(sp_num).filter([cip_field,i]).groupby(cip_field).count()\n",
    "    den = pd.DataFrame(sp_den).filter([cip_field,i]).groupby(cip_field).count()\n",
    "    pct = num.divide(den)\n",
    "    \n",
    "    cnum = pd.DataFrame(spc_num).filter([cip_field,i]).groupby(cip_field).count()\n",
    "    cden = pd.DataFrame(spc_den).filter([cip_field,i]).groupby(cip_field).count()\n",
    "    cpct = cnum.divide(cden)\n",
    "    \n",
    "    \n",
    "    enr_rate.append(pct.reset_index())\n",
    "    \n",
    "    comp_rate.append(cpct.reset_index())\n",
    "    \n"
   ]
  },
  {
   "cell_type": "markdown",
   "id": "6e06cfdf",
   "metadata": {},
   "source": [
    "### Enrollment Rates by Special Populations"
   ]
  },
  {
   "cell_type": "code",
   "execution_count": null,
   "id": "8b416676",
   "metadata": {
    "scrolled": false
   },
   "outputs": [],
   "source": [
    "for items in enr_rate:\n",
    "    try:\n",
    "        print(items.columns[1])\n",
    "        for v in items.values:\n",
    "            cip = v[0]\n",
    "            meas = v[1]\n",
    "            if meas>0:\n",
    "                \n",
    "                print('{0:.4f}---{1:.2f}%'.format(cip,meas*100))\n",
    "            else:\n",
    "                next\n",
    "\n",
    "    except:\n",
    "        \n",
    "        print('NA')\n",
    "    "
   ]
  },
  {
   "cell_type": "markdown",
   "id": "b9644069",
   "metadata": {},
   "source": [
    "### Completion rates by special populations"
   ]
  },
  {
   "cell_type": "code",
   "execution_count": null,
   "id": "50edffef",
   "metadata": {
    "scrolled": false
   },
   "outputs": [],
   "source": [
    "for items in comp_rate:\n",
    "    try:\n",
    "        print(items.columns[1])\n",
    "        for v in items.values:\n",
    "            cip = v[0]\n",
    "            meas = v[1]\n",
    "            \n",
    "            if meas>=0:\n",
    "                print('{0:.4f}---{1:.2f}%'.format(cip,meas*100))\n",
    "                \n",
    "            else:\n",
    "                #print('{0:.4f}---{1:.1f}%'.format(cip,0))\n",
    "                next\n",
    "\n",
    "    except:\n",
    "        print('NA')\n",
    "    "
   ]
  },
  {
   "cell_type": "code",
   "execution_count": null,
   "id": "8ece3203",
   "metadata": {},
   "outputs": [],
   "source": []
  }
 ],
 "metadata": {
  "kernelspec": {
   "display_name": "Python 3 (ipykernel)",
   "language": "python",
   "name": "python3"
  },
  "language_info": {
   "codemirror_mode": {
    "name": "ipython",
    "version": 3
   },
   "file_extension": ".py",
   "mimetype": "text/x-python",
   "name": "python",
   "nbconvert_exporter": "python",
   "pygments_lexer": "ipython3",
   "version": "3.9.7"
  }
 },
 "nbformat": 4,
 "nbformat_minor": 5
}
